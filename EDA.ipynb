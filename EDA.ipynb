{
 "cells": [
  {
   "cell_type": "markdown",
   "source": [],
   "metadata": {
    "collapsed": false
   },
   "id": "c7861cce7002cae"
  },
  {
   "cell_type": "markdown",
   "source": [
    "#### IAU Project Phase 1 - Exploratory Data Analysis\n",
    "#### Andrej Horváth / Adam Partl\n",
    "#### Share of work : 50% / 50%"
   ],
   "metadata": {
    "collapsed": false
   },
   "id": "f853bfe9f00666ed"
  },
  {
   "cell_type": "code",
   "execution_count": null,
   "id": "initial_id",
   "metadata": {},
   "outputs": [],
   "source": [
    "import pandas as pd\n",
    "import numpy as np\n",
    "import matplotlib.pyplot as plt\n",
    "import seaborn as sns\n",
    "import statsmodels.api as sm\n",
    "import statsmodels.stats.api as sms\n",
    "import statsmodels.stats as sm_stats\n",
    "import scipy.stats as stats\n",
    "from sklearn import preprocessing\n",
    "from sklearn.impute import KNNImputer"
   ]
  },
  {
   "cell_type": "markdown",
   "id": "7faf51261abd7da2",
   "metadata": {
    "collapsed": false
   },
   "source": [
    "Load data"
   ]
  },
  {
   "cell_type": "code",
   "execution_count": null,
   "id": "c2c1ef9e216345d2",
   "metadata": {
    "collapsed": false
   },
   "outputs": [],
   "source": [
    "connections_df = pd.read_csv('data/connections.csv',delimiter='\\t', on_bad_lines='skip')\n",
    "processes_df = pd.read_csv('data/processes.csv',delimiter='\\t', on_bad_lines='skip')\n",
    "profiles_df = pd.read_csv('data/profiles.csv',delimiter='\\t', on_bad_lines='skip')\n",
    "devices_df = pd.read_csv('data/devices.csv',delimiter='\\t', on_bad_lines='skip')"
   ]
  },
  {
   "cell_type": "markdown",
   "id": "61e9d673252e52ab",
   "metadata": {
    "collapsed": false
   },
   "source": [
    "1) Data description\n",
    "A) Analyze data structures"
   ]
  },
  {
   "cell_type": "code",
   "execution_count": null,
   "id": "6dc28cbc-de3e-4823-8fab-83e10ec8d068",
   "metadata": {},
   "outputs": [],
   "source": [
    "c1 = connections_df.columns\n",
    "c2 = processes_df.columns\n",
    "c3 = profiles_df.columns\n",
    "c4 = devices_df.columns\n",
    "\n",
    "print(\"connections :\", c1)\n",
    "print(\"processes :\", c2)\n",
    "print(\"profiles :\", c3)\n",
    "print(\"devices :\", c4)"
   ]
  },
  {
   "cell_type": "markdown",
   "id": "bdcaa44b8331a276",
   "metadata": {
    "collapsed": false
   },
   "source": [
    "From this output we can see names of the columns in our datasets - which suggests that the important datasets will be processes and connections. Profiles and devices will be less useful, since we are trying to predict mwra, we do not care in which store the device was bought or what is the owners job, birthdate... ."
   ]
  },
  {
   "cell_type": "code",
   "execution_count": null,
   "id": "e4280fdf-24d4-48ac-a318-e8d933a146b4",
   "metadata": {},
   "outputs": [],
   "source": [
    "print(\"\\nSummary for connections:\")\n",
    "print(connections_df.describe())\n",
    "print(\"\\nSummary for processes:\")\n",
    "print(processes_df.describe())\n",
    "print(\"\\nSummary for profiles:\")\n",
    "print(profiles_df.describe())\n",
    "print(\"\\nSummary for devices:\")\n",
    "print(devices_df.describe())"
   ]
  },
  {
   "cell_type": "markdown",
   "id": "7d9aa767b7f904b",
   "metadata": {
    "collapsed": false
   },
   "source": [
    "From this output we can see that a summary statistics for the datasets. \n",
    "The IMEI indicates an ID of the device.\n",
    "The columns in the connections dataset seem consistent.\n",
    "The columns in the processes dataset suggest higher standard deviation."
   ]
  },
  {
   "cell_type": "code",
   "execution_count": null,
   "id": "1a872392-0bf6-4166-8390-4ffc158f8154",
   "metadata": {},
   "outputs": [],
   "source": [
    "print(\"\\nSummary for profiles:\")\n",
    "print(profiles_df.describe(exclude=np.number))\n",
    "print(\"\\nSummary for devices:\")\n",
    "print(devices_df.describe(exclude=np.number))"
   ]
  },
  {
   "cell_type": "markdown",
   "id": "6addf51e76f6667f",
   "metadata": {
    "collapsed": false
   },
   "source": [
    "The result of profiles and devices description does not suggest that the data could be relevant to mwra"
   ]
  },
  {
   "cell_type": "code",
   "execution_count": null,
   "id": "d9672525-e2a8-4cf7-b894-2d3c16b1ca17",
   "metadata": {},
   "outputs": [],
   "source": [
    "print(\"\\nInfo for connections:\")\n",
    "print(connections_df.info())\n",
    "print(\"\\nInfo for processes:\")\n",
    "print(processes_df.info())\n",
    "print(\"\\nInfo for profiles:\")\n",
    "print(profiles_df.info())\n",
    "print(\"\\nInfo for devices:\")\n",
    "print(devices_df.info())"
   ]
  },
  {
   "cell_type": "markdown",
   "id": "41dc98f944e42497",
   "metadata": {
    "collapsed": false
   },
   "source": [
    "This output provides us with information about the datasets, like the amount of non null records or variable types.\n",
    "We can see that the profiles and devices contain mostly object-like data, and connections and processes contain mostly floats.\n",
    "Other than that we acn also see that the more important data to us (processes and connections) do not contain missing values."
   ]
  },
  {
   "cell_type": "code",
   "execution_count": null,
   "id": "1a25c67e-42a3-4d9e-9f03-e875dc346a58",
   "metadata": {},
   "outputs": [],
   "source": [
    "merged_df = pd.merge(connections_df, processes_df, on=['imei', 'ts'], how='inner', suffixes=('_conn', '_proc'))\n",
    "len(merged_df)"
   ]
  },
  {
   "cell_type": "markdown",
   "id": "e87620f5ccfd6d8c",
   "metadata": {
    "collapsed": false
   },
   "source": [
    "While attempting to join all the datasets based on the imei (shared feature) we could not get anything useful. This is due to there being multiple records with the same imei in the data. We eventually achieved a merged dataset consisting of the records from connections and processes, even though there were still multiple records of the same imei, we could combine these on the timestamp as well. In the end we created a combined dataset that contains 15439 records as opposed to the 15081 original. This combination will be put to use in the Phase 2 of the project."
   ]
  },
  {
   "cell_type": "markdown",
   "id": "2ccc0e3bd0439f74",
   "metadata": {
    "collapsed": false
   },
   "source": [
    "B) Attribute Analysis"
   ]
  },
  {
   "cell_type": "code",
   "execution_count": null,
   "id": "955bd189-4a25-4211-8b13-f9745e049dd0",
   "metadata": {},
   "outputs": [],
   "source": [
    "selected_attributes_connections = ['c.android.youtube', 'c.android.gm', 'c.android.chrome', 'c.katana', 'c.updateassist'] \n",
    "selected_attributes_processes = ['p.android.settings', 'p.android.packageinstaller', 'p.android.gm', 'p.system', 'p.android.externalstorage']"
   ]
  },
  {
   "cell_type": "code",
   "execution_count": null,
   "id": "e5166647bd1c4938",
   "metadata": {
    "collapsed": false
   },
   "outputs": [],
   "source": [
    "def plot_and_describe(df, attributes):\n",
    "        for attribute in attributes:\n",
    "            sns.histplot(df[attribute], kde=True)\n",
    "            plt.title(f'Distribution of {attribute}')\n",
    "            plt.show()\n",
    "            print(f'Descriptive statistics for {attribute}:')\n",
    "            print(df[attribute].describe())"
   ]
  },
  {
   "cell_type": "code",
   "execution_count": null,
   "id": "5ccfee5407f32966",
   "metadata": {
    "collapsed": false
   },
   "outputs": [],
   "source": [
    "plot_and_describe(connections_df, selected_attributes_connections)\n",
    "plot_and_describe(processes_df, selected_attributes_processes)"
   ]
  },
  {
   "cell_type": "markdown",
   "id": "4732e8955f3de95e",
   "metadata": {
    "collapsed": false
   },
   "source": [
    "We chose the selected attributes based on the correlation matrix (used later), using ones that have high correlation with MWRA.\n",
    "From the resulted graphs for connections, we can see that the output is often normally distributed, which suggests a low amount of extremes and not a lot of skewness.\n",
    "\n",
    "From the resulted graphs for processes, we can see more normal distribution, suggesting that the data is distributed around the mean. This shows a fewer extremes and consistent behavior."
   ]
  },
  {
   "cell_type": "markdown",
   "id": "ea6f39ee60c1f93a",
   "metadata": {
    "collapsed": false
   },
   "source": [
    "C) Pair analysis"
   ]
  },
  {
   "cell_type": "code",
   "execution_count": null,
   "id": "f9e8a864-bea5-41e8-981a-6ed79b9da8a6",
   "metadata": {},
   "outputs": [],
   "source": [
    "connections_numeric_df = connections_df.select_dtypes(include=[np.number])\n",
    "processes_numeric_df = processes_df.select_dtypes(include=[np.number])"
   ]
  },
  {
   "cell_type": "code",
   "execution_count": null,
   "id": "d2a4c5bd-a2ca-45fa-8ddb-422509e33918",
   "metadata": {},
   "outputs": [],
   "source": [
    "plt.figure(figsize=(12, 8))\n",
    "sns.heatmap(connections_numeric_df.corr(), annot=True, cmap=\"coolwarm\", fmt=\".2f\")\n",
    "plt.xticks(rotation=45)\n",
    "plt.yticks(rotation=0)\n",
    "plt.title(\"Correlation Heatmap for Connections Dataset\")\n",
    "plt.show()"
   ]
  },
  {
   "cell_type": "code",
   "execution_count": null,
   "id": "f8f8bdc8-9aa3-4c96-91f6-336167c303c9",
   "metadata": {},
   "outputs": [],
   "source": [
    "columns_to_exclude = ['c.UCMobile.x86', 'c.UCMobile.intl', 'c.raider', 'c.android.vending', 'imei']\n",
    "filtered_connections_df = connections_numeric_df.drop(columns=columns_to_exclude)\n",
    "sns.pairplot(filtered_connections_df)\n",
    "plt.show()"
   ]
  },
  {
   "cell_type": "markdown",
   "id": "9b516df82f0f055d",
   "metadata": {
    "collapsed": false
   },
   "source": [
    "The results of pair analysis on the connections dataset shows that there are 6 variables that have some correlation with MWRA. We then used those to create pair plots. The pair plots show us in what way are the variables related to each other. For example, with higher usage of c.android.youtube, c.katana also rises."
   ]
  },
  {
   "cell_type": "code",
   "execution_count": null,
   "id": "f5453e34-d23c-4d48-8809-0e75513ee9d4",
   "metadata": {},
   "outputs": [],
   "source": [
    "plt.figure(figsize=(12, 8))\n",
    "sns.heatmap(processes_numeric_df.corr(), annot=True, cmap=\"coolwarm\", fmt=\".1f\")\n",
    "plt.xticks(rotation=90)\n",
    "plt.yticks(rotation=0)\n",
    "plt.title(\"Correlation Heatmap for Processes Dataset\")\n",
    "plt.show()"
   ]
  },
  {
   "cell_type": "code",
   "execution_count": null,
   "id": "a019095f-1de0-4bbe-abc7-d95ce46b4014",
   "metadata": {},
   "outputs": [],
   "source": [
    "columns_to_exclude = ['p.google', 'p.olauncher', 'p.android.gms', 'p.browser.provider', 'p.process.gapps', 'p.dogalize', 'p.android.vending', 'p.gms.persistent', 'p.android.defcontainer', 'p.simulator', 'p.notifier', 'p.inputmethod.latin', 'p.katana', 'imei']\n",
    "filtered_processes_df = processes_numeric_df.drop(columns=columns_to_exclude)\n",
    "sns.pairplot(filtered_processes_df)\n",
    "plt.show()"
   ]
  },
  {
   "cell_type": "markdown",
   "id": "d78f9844d087aba4",
   "metadata": {
    "collapsed": false
   },
   "source": [
    "The results of pair analysis on the processes dataset shows that there are 5 variables that have some correlation with MWRA. We then used those to create pair plots. The pair plots show us in what way are the variables related to each other. For example, with higher usage of p.system, p.android.gm is lower."
   ]
  },
  {
   "cell_type": "markdown",
   "id": "809a2539597901b1",
   "metadata": {
    "collapsed": false
   },
   "source": [
    "D) Pair analysis focused on predicted attribute"
   ]
  },
  {
   "cell_type": "code",
   "execution_count": null,
   "id": "d92e12717baa121c",
   "metadata": {
    "collapsed": false
   },
   "outputs": [],
   "source": [
    "def analyze_correlations(df, target_column):\n",
    "    correlations = df.corr()[target_column].sort_values()\n",
    "    print(f\"Correlations with {target_column}:\\n\", correlations)\n",
    "    return correlations"
   ]
  },
  {
   "cell_type": "code",
   "execution_count": null,
   "id": "dd4ae2503f2c7117",
   "metadata": {
    "collapsed": false
   },
   "outputs": [],
   "source": [
    "def plot_predictor_relationships(df, target_column, predictors):\n",
    "    for predictor in predictors:\n",
    "        sns.scatterplot(x=df[predictor], y=df[target_column])\n",
    "        plt.title(f'Relation between {predictor} and {target_column}')\n",
    "        plt.show()"
   ]
  },
  {
   "cell_type": "code",
   "execution_count": null,
   "id": "b22d44ea1ebd25c2",
   "metadata": {
    "collapsed": false
   },
   "outputs": [],
   "source": [
    "connections_correlations = analyze_correlations(connections_numeric_df, 'mwra')\n",
    "connections_potential_predictors = connections_correlations.index[-5:]\n",
    "plot_predictor_relationships(connections_df, 'mwra', connections_potential_predictors)"
   ]
  },
  {
   "cell_type": "markdown",
   "id": "eb35a82a1444770b",
   "metadata": {
    "collapsed": false
   },
   "source": [
    "From the results of the pair analysis focused on mwra column, we can see that the corelations go up to .57. Other than that we also created some pair plots, which show that the chance of mwra being 1 is higher with the usage of c.android.youtube."
   ]
  },
  {
   "cell_type": "code",
   "execution_count": null,
   "id": "9750f65ec80931e0",
   "metadata": {
    "collapsed": false
   },
   "outputs": [],
   "source": [
    "processes_correlations = analyze_correlations(processes_numeric_df, 'mwra')\n",
    "processes_potential_predictors = processes_correlations.index[-5:]\n",
    "plot_predictor_relationships(processes_df, 'mwra', processes_potential_predictors)"
   ]
  },
  {
   "cell_type": "markdown",
   "id": "2578ca6f61eacf4d",
   "metadata": {
    "collapsed": false
   },
   "source": [
    "The output of this pair analysis focused on mwra in processes dataset, shows similar results as the one for connections. The results show correlation ranges up to .3. The plots are also similar, and show for example that mwra is likely related to high usage of p.system."
   ]
  },
  {
   "cell_type": "markdown",
   "id": "247b659bc1ef34df",
   "metadata": {
    "collapsed": false
   },
   "source": [
    "2) Identification of problems, integration and cleaning of data\n",
    "A) Identification of problems"
   ]
  },
  {
   "cell_type": "code",
   "execution_count": null,
   "id": "bf004b8f-4c9e-4746-a85e-75021e434566",
   "metadata": {},
   "outputs": [],
   "source": [
    "#Check missing values\n",
    "print(\"Rows with missing values in connections:\", connections_df[connections_df.isnull().any(axis=1)].shape[0])\n",
    "print(\"Rows with missing values in processes:\", processes_df[processes_df.isnull().any(axis=1)].shape[0])\n",
    "print(\"Rows with missing values in profiles:\", profiles_df[profiles_df.isnull().any(axis=1)].shape[0])\n",
    "print(\"Rows with missing values in devices:\", devices_df[devices_df.isnull().any(axis=1)].shape[0])\n",
    "print(\"\\nMissing values in profiles:\")\n",
    "print(profiles_df.isnull().sum())"
   ]
  },
  {
   "cell_type": "markdown",
   "id": "5c5cbf4290c88267",
   "metadata": {
    "collapsed": false
   },
   "source": [
    "This output shows the sum of missing values, from which we can see that the most of them are located in profiles, and we show in which columns"
   ]
  },
  {
   "cell_type": "code",
   "execution_count": null,
   "id": "2a0c6cf4fd02b851",
   "metadata": {
    "collapsed": false
   },
   "outputs": [],
   "source": [
    "def convert_to_numeric(df, df_name):\n",
    "    for col in df.columns:\n",
    "        if df[col].dtype == 'object':\n",
    "            try:\n",
    "                df[col] = pd.to_numeric(df[col])\n",
    "            except ValueError:\n",
    "                print(f\"{df_name} - Non-numeric values found in column {col}\")\n",
    "    return df"
   ]
  },
  {
   "cell_type": "code",
   "execution_count": null,
   "id": "9133b3f868bd1621",
   "metadata": {
    "collapsed": false
   },
   "outputs": [],
   "source": [
    "connections_df = convert_to_numeric(connections_df, \"Connections\")\n",
    "processes_df = convert_to_numeric(processes_df, \"Processes\")\n",
    "devices_df = convert_to_numeric(devices_df, \"Devices\")\n",
    "profiles_df = convert_to_numeric(profiles_df, \"Profiles\")"
   ]
  },
  {
   "cell_type": "markdown",
   "id": "790aff99f7bd7eec",
   "metadata": {
    "collapsed": false
   },
   "source": [
    "Next up we viewed the non-numeric values in each dataset, indicating that processes contain a timestamp which is likely in datetime format, and the rest of non-numeric values come from the profiles and devices datasets."
   ]
  },
  {
   "cell_type": "code",
   "execution_count": null,
   "id": "58be1b4cff50d76c",
   "metadata": {
    "collapsed": false
   },
   "outputs": [],
   "source": [
    "def generate_boxplots(df, df_name):\n",
    "    numeric_columns = df.select_dtypes(include=[np.number]).columns\n",
    "    for col in numeric_columns:\n",
    "        sns.boxplot(x=df[col])\n",
    "        plt.title(f'Boxplot of {col} ({df_name})')\n",
    "        plt.show()"
   ]
  },
  {
   "cell_type": "code",
   "execution_count": null,
   "id": "9cc9e4eefd49f8ef",
   "metadata": {
    "collapsed": false
   },
   "outputs": [],
   "source": [
    "generate_boxplots(connections_df, \"Connections\")\n",
    "generate_boxplots(processes_df, \"Processes\")"
   ]
  },
  {
   "cell_type": "markdown",
   "id": "6e0388bba85c9f10",
   "metadata": {
    "collapsed": false
   },
   "source": [
    "B) Missing values"
   ]
  },
  {
   "cell_type": "code",
   "execution_count": null,
   "id": "10297b1c-93a5-4324-9075-dd648c2b6d73",
   "metadata": {
    "collapsed": false
   },
   "outputs": [],
   "source": [
    "#set treshold as 0.85 -> 15%\n",
    "#set impute method to knn or mean\n",
    "def handle_missing_values(df, threshold, impute_method):\n",
    "    df = df.dropna(thresh=int(len(df) * threshold), axis=1)\n",
    "\n",
    "    if impute_method == 'mean':\n",
    "        for col in df.select_dtypes(include=[np.number]).columns:\n",
    "            df[col] = df[col].fillna(df[col].mean())\n",
    "    elif impute_method == 'knn':\n",
    "        knn_imputer = KNNImputer(n_neighbors=5)\n",
    "        df[df.select_dtypes(include=[np.number]).columns] = knn_imputer.fit_transform(df.select_dtypes(include=[np.number]))\n",
    "    \n",
    "    return df"
   ]
  },
  {
   "cell_type": "code",
   "execution_count": null,
   "id": "ff6e94a9-1339-4a3e-9ac8-f5c53c51920d",
   "metadata": {},
   "outputs": [],
   "source": [
    "missing_handled_connections = handle_missing_values(connections_df, 0.85, 'mean')   #This is what handling missing values would look like if the dataset had some\n",
    "print(\"Rows with missing values in profiles:\", profiles_df[profiles_df.isnull().any(axis=1)].shape[0])\n",
    "m_profiles_df = handle_missing_values(profiles_df, 0.85, '') # can not replace values since they are not numeric \n",
    "print(\"Rows with missing values in profiles:\", m_profiles_df[m_profiles_df.isnull().any(axis=1)].shape[0])"
   ]
  },
  {
   "cell_type": "markdown",
   "id": "364c231526827e75",
   "metadata": {
    "collapsed": false
   },
   "source": [
    "In this output we tried to treat missing values. We used 2 approaches, to drop the columns where there is more than 15% values missing, and after that try to replace the missing values if there are still some left. We do this by either Knn or mean as imputers. Unfortunately the data that contains missing values does not contain numerical values - we can not impute those."
   ]
  },
  {
   "cell_type": "markdown",
   "id": "a5874e7d4c1cac7",
   "metadata": {
    "collapsed": false
   },
   "source": [
    "C) Outlier Detection"
   ]
  },
  {
   "cell_type": "code",
   "execution_count": null,
   "id": "c6fb04de-d3e5-4ca2-a6ab-6339d77d3ad0",
   "metadata": {},
   "outputs": [],
   "source": [
    "#method = remove / replace \n",
    "#lower_quantile = 0.3\n",
    "#upper_quartile = 0.7\n",
    "\n",
    "def handle_outliers(df, method, lower_quantile, upper_quantile):\n",
    "    numeric_columns = df.select_dtypes(include=[np.number]).columns\n",
    "    ndf = df.copy()\n",
    "    for col in numeric_columns:\n",
    "        if col == 'mwra' or col == 'imei':\n",
    "            continue\n",
    "    \n",
    "        lower_bound = df[col].quantile(lower_quantile) - 1.5 * stats.iqr(df[col])\n",
    "        upper_bound = df[col].quantile(upper_quantile) + 1.5 * stats.iqr(df[col])\n",
    "\n",
    "        if method == 'remove':\n",
    "            ndf = ndf[(ndf[col] >= lower_bound) & (ndf[col] <= upper_bound)]\n",
    "        elif method == 'replace':\n",
    "            mean_value = ndf[col].mean() \n",
    "            ndf[col] = np.where(ndf[col] < lower_bound, mean_value, \n",
    "                                np.where(ndf[col] > upper_bound, mean_value, ndf[col]))\n",
    "    \n",
    "    return ndf"
   ]
  },
  {
   "cell_type": "code",
   "execution_count": null,
   "id": "cb1c0724-b2c1-4973-9e9c-e61619ecb1d2",
   "metadata": {},
   "outputs": [],
   "source": [
    "rep_connections_df = handle_outliers(connections_df, 'replace', 0.3, 0.7)\n",
    "rem_connections_df = handle_outliers(connections_df, 'remove', 0.3, 0.7)\n",
    "\n",
    "rem_processes_df = handle_outliers(processes_df, 'remove', 0.3, 0.7)"
   ]
  },
  {
   "cell_type": "code",
   "execution_count": null,
   "outputs": [],
   "source": [
    "numeric_columns = connections_df.select_dtypes(include=['float64', 'int64']).columns\n",
    "numeric_columns = numeric_columns.drop('imei')\n",
    "plt.figure(figsize=(15, 10))\n",
    "rep_connections_df[numeric_columns].boxplot()\n",
    "plt.xticks(rotation=90) \n",
    "plt.show()"
   ],
   "metadata": {
    "collapsed": false
   },
   "id": "2e6a225c83724871"
  },
  {
   "cell_type": "code",
   "execution_count": null,
   "outputs": [],
   "source": [
    "numeric_columns = processes_df.select_dtypes(include=['float64', 'int64']).columns\n",
    "numeric_columns = numeric_columns.drop('imei')\n",
    "plt.figure(figsize=(15, 10))\n",
    "rem_processes_df[numeric_columns].boxplot()\n",
    "plt.xticks(rotation=90) \n",
    "plt.show()"
   ],
   "metadata": {
    "collapsed": false
   },
   "id": "9bf8462c91bfbc13"
  },
  {
   "cell_type": "markdown",
   "id": "cd68c2aca95d49fd",
   "metadata": {
    "collapsed": false
   },
   "source": [
    "In this output we can see how to handle outliers. There are 2 approaches we used, replacing values - if the value was below or above the specified bound, it was set to a mean value of that column. The second approach we used was to simply remove the values that were out of bounds.\n",
    "For the connections dataset, we used bounds of 0.3 and 0.7 to successfully handle most of the outliers.\n",
    "For the processes dataset, we used the same bounds to handle all the outliers.\n",
    "We used box plots to visualize the results"
   ]
  },
  {
   "cell_type": "markdown",
   "id": "c1bd732e",
   "metadata": {},
   "source": [
    "#### 3. Formulation and verification of hypotheses\n",
    "\n",
    "##### A) Formulation"
   ]
  },
  {
   "cell_type": "markdown",
   "id": "3053d5a5",
   "metadata": {},
   "source": [
    "__Hypothesis 2:__ c.andoroid.youtube has on average a higher value when mwra is present"
   ]
  },
  {
   "cell_type": "markdown",
   "id": "9f861e24",
   "metadata": {},
   "source": [
    "Null hypothesis H0: the average is the same for mwra = 1 and mwra = 0.\n",
    "\n",
    "Hypothesis H1: There is a significant difference between the mean of mwra = 1 and mwra = 0."
   ]
  },
  {
   "cell_type": "code",
   "execution_count": null,
   "id": "9289742a",
   "metadata": {},
   "outputs": [],
   "source": [
    "sns.histplot(connections_df['c.android.youtube'])"
   ]
  },
  {
   "cell_type": "markdown",
   "id": "ca327fff",
   "metadata": {},
   "source": [
    "This data contains still contains outliers. For the rest of the solution we will use data from the previous part where outliers are handeled."
   ]
  },
  {
   "cell_type": "code",
   "execution_count": null,
   "id": "4965a4cf",
   "metadata": {},
   "outputs": [],
   "source": [
    "sns.histplot(rep_connections_df['c.android.youtube'])"
   ]
  },
  {
   "cell_type": "markdown",
   "id": "0cd2c4d4",
   "metadata": {},
   "source": [
    "Next we will split this data into two groups based on whether mwra is 1 or 0."
   ]
  },
  {
   "cell_type": "code",
   "execution_count": null,
   "id": "040a0270",
   "metadata": {},
   "outputs": [],
   "source": [
    "mwra_youtube = rep_connections_df[rep_connections_df['mwra'] == 1 ]['c.android.youtube']\n",
    "nomwra_youtube = rep_connections_df[rep_connections_df['mwra'] == 0]['c.android.youtube']"
   ]
  },
  {
   "cell_type": "code",
   "execution_count": null,
   "id": "b7935c26",
   "metadata": {},
   "outputs": [],
   "source": [
    "_ = sm.ProbPlot(mwra_youtube, fit=True).qqplot(line='45')"
   ]
  },
  {
   "cell_type": "code",
   "execution_count": null,
   "id": "33953acd",
   "metadata": {},
   "outputs": [],
   "source": [
    "_ = sm.ProbPlot(nomwra_youtube, fit=True).qqplot(line='45')"
   ]
  },
  {
   "cell_type": "code",
   "execution_count": null,
   "id": "38ceec0e",
   "metadata": {},
   "outputs": [],
   "source": [
    "stats.shapiro(mwra_youtube)"
   ]
  },
  {
   "cell_type": "code",
   "execution_count": null,
   "id": "c51f0fee",
   "metadata": {},
   "outputs": [],
   "source": [
    "stats.shapiro(nomwra_youtube)"
   ]
  },
  {
   "cell_type": "markdown",
   "id": "5ce226af",
   "metadata": {},
   "source": [
    "In this case the $p$ value is < $0.05$ so we can assume the data does not come from a normal distribution. Since the data does not come from a normal distribution we can not use the t-test and will instead use the Mann-Whiteney U-test."
   ]
  },
  {
   "cell_type": "code",
   "execution_count": null,
   "id": "0c9e5487",
   "metadata": {},
   "outputs": [],
   "source": [
    "stats.mannwhitneyu(mwra_youtube,nomwra_youtube)"
   ]
  },
  {
   "cell_type": "markdown",
   "id": "7dbf144b",
   "metadata": {},
   "source": [
    "Mann-Whiteney U-test gives us a $p$ value of 0.0 which means we will reject the null hypothesis and take hypothesis 1 as correct.\n",
    "\n",
    "The difference in mean of value c.android.youtube is when mwra = 1 and mwra = 0 is statistically significant."
   ]
  },
  {
   "cell_type": "code",
   "execution_count": null,
   "id": "5f9522bf",
   "metadata": {},
   "outputs": [],
   "source": [
    "sms.DescrStatsW(nomwra_youtube).tconfint_mean()"
   ]
  },
  {
   "cell_type": "code",
   "execution_count": null,
   "id": "0ca89fc1",
   "metadata": {},
   "outputs": [],
   "source": [
    "sms.DescrStatsW(mwra_youtube).tconfint_mean()"
   ]
  },
  {
   "cell_type": "code",
   "execution_count": null,
   "id": "358a129b",
   "metadata": {},
   "outputs": [],
   "source": [
    "sns.barplot(x='mwra',y='c.android.youtube',data=rep_connections_df[(rep_connections_df.mwra==1)|(rep_connections_df.mwra==0)],capsize=0.1,err_kws={'linewidth':1})"
   ]
  },
  {
   "cell_type": "markdown",
   "id": "b1fb5dbf",
   "metadata": {},
   "source": [
    "This box plot shows that the mean of c.android.youtube is significantly higher when mwra = 1."
   ]
  },
  {
   "cell_type": "markdown",
   "id": "ce7bcca9",
   "metadata": {},
   "source": [
    "__Hypothesis 2:__ p.android.packageinstaller has on average a lower value when mwra is present"
   ]
  },
  {
   "cell_type": "markdown",
   "id": "be829cef",
   "metadata": {},
   "source": [
    "__Null hypothesis H0:__ The mean does not significantly change between mwra = 1 and mwra = 0.\n",
    "\n",
    "__Hypothesis H1:__ The mean is significantly different between mwra = 1 and mwra = 0."
   ]
  },
  {
   "cell_type": "markdown",
   "id": "140ed696",
   "metadata": {},
   "source": [
    "Firts we handle outliers in the processes_df dataframe"
   ]
  },
  {
   "cell_type": "code",
   "execution_count": null,
   "id": "7f9e5372",
   "metadata": {},
   "outputs": [],
   "source": [
    "rep_processes_df = handle_outliers(processes_df, 'replace', 0.3, 0.75)"
   ]
  },
  {
   "cell_type": "code",
   "execution_count": null,
   "id": "eedb59ac",
   "metadata": {},
   "outputs": [],
   "source": [
    "sns.histplot(rep_processes_df['p.android.packageinstaller'])"
   ]
  },
  {
   "cell_type": "code",
   "execution_count": null,
   "id": "a5f04a7e",
   "metadata": {},
   "outputs": [],
   "source": [
    "_=sm.ProbPlot(rep_processes_df['p.android.packageinstaller'], fit=True).qqplot(line='45')"
   ]
  },
  {
   "cell_type": "markdown",
   "id": "cf2d82fd",
   "metadata": {},
   "source": [
    "We separeate the data based on whether mwra is equal to 1 or 0."
   ]
  },
  {
   "cell_type": "code",
   "execution_count": null,
   "id": "9a431f30",
   "metadata": {},
   "outputs": [],
   "source": [
    "nomwra_package = rep_processes_df[rep_processes_df['mwra'] == 0]['p.android.packageinstaller']\n",
    "mwra_package = rep_processes_df[rep_processes_df['mwra'] == 1]['p.android.packageinstaller']"
   ]
  },
  {
   "cell_type": "code",
   "execution_count": null,
   "id": "f604b4fc",
   "metadata": {},
   "outputs": [],
   "source": [
    "stats.shapiro(nomwra_package)"
   ]
  },
  {
   "cell_type": "code",
   "execution_count": null,
   "id": "d0786d9d",
   "metadata": {},
   "outputs": [],
   "source": [
    "stats.shapiro(mwra_package)"
   ]
  },
  {
   "cell_type": "markdown",
   "id": "8e0d29c4",
   "metadata": {},
   "source": [
    "The shapiro test came out with $p$ values $< 0.05$ for both cases, meaning they are not normal distribution and we cant use student's t-test. We will continue with Mann-Whiteney U-test."
   ]
  },
  {
   "cell_type": "code",
   "execution_count": null,
   "id": "bbb61eab",
   "metadata": {},
   "outputs": [],
   "source": [
    "stats.mannwhitneyu(mwra_package,nomwra_package)"
   ]
  },
  {
   "cell_type": "markdown",
   "id": "adfb0b13",
   "metadata": {},
   "source": [
    "The Mann-Whiteney U-test gives us a $p$ value of $0.0$ so we reject the __Null hypothesis H0__ and embrace __H1__. There is a significant difference between the mean of mwra = 1 and mwra = 0."
   ]
  },
  {
   "cell_type": "code",
   "execution_count": null,
   "id": "aa44f1b0",
   "metadata": {},
   "outputs": [],
   "source": [
    "sms.DescrStatsW(mwra_package).tconfint_mean()"
   ]
  },
  {
   "cell_type": "code",
   "execution_count": null,
   "id": "554aa467",
   "metadata": {},
   "outputs": [],
   "source": [
    "sms.DescrStatsW(nomwra_package).tconfint_mean()"
   ]
  },
  {
   "cell_type": "code",
   "execution_count": null,
   "id": "0b5b2433",
   "metadata": {},
   "outputs": [],
   "source": [
    "sns.barplot(x='mwra',y='p.android.packageinstaller',data=rep_processes_df[(rep_processes_df.mwra==1)|(rep_processes_df.mwra==0)],capsize=0.1,err_kws={'linewidth':1})"
   ]
  },
  {
   "cell_type": "markdown",
   "id": "2ac49a8c",
   "metadata": {},
   "source": [
    "This plot shows that when mwra = 0 the mean is significantly higher compared to mwra = 1 and our hypothesis was correct."
   ]
  },
  {
   "cell_type": "markdown",
   "id": "424742ab",
   "metadata": {},
   "source": [
    "##### B) Statistical power"
   ]
  },
  {
   "cell_type": "markdown",
   "id": "3ba88658",
   "metadata": {},
   "source": [
    "First we create a function to calculate __Cohen's d__."
   ]
  },
  {
   "cell_type": "code",
   "execution_count": null,
   "id": "7226d6ed",
   "metadata": {},
   "outputs": [],
   "source": [
    "def cohen_d(x1, x2):\n",
    "    nx1 = len(x1)\n",
    "    nx2 = len(x2)\n",
    "    s = np.sqrt(((nx1-1) * np.std(x1, ddof=1)**2 + (nx2-1) * np.std(x2, ddof=1)**2) / (nx1 + nx2 - 2))\n",
    "    return (np.abs(np.mean(x1) - np.mean(x2))) / s"
   ]
  },
  {
   "cell_type": "markdown",
   "id": "85c271b9",
   "metadata": {},
   "source": [
    "We calculate cohen_d for values in $c.android.youtube$ and calculate the Statistical power."
   ]
  },
  {
   "cell_type": "code",
   "execution_count": null,
   "id": "3465e556",
   "metadata": {},
   "outputs": [],
   "source": [
    "c_youtube = cohen_d(mwra_youtube,nomwra_youtube)\n",
    "sm_stats.power.tt_ind_solve_power(c_youtube, len(mwra_youtube), 0.05, None, (len(nomwra_youtube)/len(mwra_youtube)))"
   ]
  },
  {
   "cell_type": "markdown",
   "id": "b0e02969",
   "metadata": {},
   "source": [
    "We do the same for values in $p.android.packageinstaller$."
   ]
  },
  {
   "cell_type": "code",
   "execution_count": null,
   "id": "114ced1e",
   "metadata": {},
   "outputs": [],
   "source": [
    "c_package = cohen_d(mwra_package,nomwra_package)\n",
    "sm_stats.power.tt_ind_solve_power(c_youtube, len(mwra_package), 0.05, None, (len(nomwra_package)/len(mwra_package)))"
   ]
  },
  {
   "cell_type": "markdown",
   "id": "248ba7db",
   "metadata": {},
   "source": [
    "In both cases we get a __Statistical power__ of 1.0 meaning our test were certain to correctly reject the Null hypothesis."
   ]
  },
  {
   "cell_type": "markdown",
   "source": [
    "#### Conclusion\n",
    "The data is in a suitable format for further analysis and processing. Out of the 4 original datasets, we concluded that only connections and processes are going to be significant in further prediction of mwra. Our data had a lot of outliers present, which we treated accordingly, on the other hand we did not encounter any missing values in the connections or processes dataframes.\n",
    "So in conclusion, we identified the issues in the data, found a way to treat the issues and the data is ready for further processing in phase 2."
   ],
   "metadata": {
    "collapsed": false
   },
   "id": "3ffa811eb5e2de8e"
  },
  {
   "cell_type": "markdown",
   "id": "628710a3",
   "metadata": {},
   "source": [
    "Sources:\n",
    "\n",
    "https://github.com/FIIT-IAU/IAU-course"
   ]
  }
 ],
 "metadata": {
  "kernelspec": {
   "display_name": ".venv",
   "language": "python",
   "name": "python3"
  },
  "language_info": {
   "codemirror_mode": {
    "name": "ipython",
    "version": 3
   },
   "file_extension": ".py",
   "mimetype": "text/x-python",
   "name": "python",
   "nbconvert_exporter": "python",
   "pygments_lexer": "ipython3",
   "version": "3.12.6"
  }
 },
 "nbformat": 4,
 "nbformat_minor": 5
}
