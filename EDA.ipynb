{
 "cells": [
  {
   "cell_type": "code",
   "execution_count": null,
   "id": "initial_id",
   "metadata": {},
   "outputs": [],
   "source": [
    "import pandas as pd\n",
    "import numpy as np\n",
    "import matplotlib.pyplot as plt\n",
    "import seaborn as sns\n",
    "import statsmodels.api as sm\n",
    "import statsmodels.stats.api as sms\n",
    "import scipy.stats as stats\n",
    "from sklearn import preprocessing\n",
    "from sklearn.impute import KNNImputer"
   ]
  },
  {
   "cell_type": "markdown",
   "source": [
    "Load data"
   ],
   "metadata": {
    "collapsed": false
   },
   "id": "7faf51261abd7da2"
  },
  {
   "cell_type": "code",
   "execution_count": null,
   "id": "c2c1ef9e216345d2",
   "metadata": {
    "collapsed": false
   },
   "outputs": [],
   "source": [
    "connections_df = pd.read_csv('data/connections.csv',delimiter='\\t', on_bad_lines='skip')\n",
    "processes_df = pd.read_csv('data/processes.csv',delimiter='\\t', on_bad_lines='skip')\n",
    "profiles_df = pd.read_csv('data/profiles.csv',delimiter='\\t', on_bad_lines='skip')\n",
    "devices_df = pd.read_csv('data/devices.csv',delimiter='\\t', on_bad_lines='skip')"
   ]
  },
  {
   "cell_type": "markdown",
   "source": [
    "1) Data description\n",
    "A) Analyze data structures"
   ],
   "metadata": {
    "collapsed": false
   },
   "id": "61e9d673252e52ab"
  },
  {
   "cell_type": "code",
   "execution_count": null,
   "id": "6dc28cbc-de3e-4823-8fab-83e10ec8d068",
   "metadata": {},
   "outputs": [],
   "source": [
    "c1 = connections_df.columns\n",
    "c2 = processes_df.columns\n",
    "c3 = profiles_df.columns\n",
    "c4 = devices_df.columns\n",
    "\n",
    "print(\"connections :\", c1)\n",
    "print(\"processes :\", c2)\n",
    "print(\"profiles :\", c3)\n",
    "print(\"devices :\", c4)"
   ]
  },
  {
   "cell_type": "markdown",
   "source": [
    "From this output we can see names of the columns in our datasets - which suggests that the important datasets will be processes and connections. Profiles and devices will be less useful, since we are trying to predict mwra, we do not care in which store the device was bought or what is the owners job, birthdate... ."
   ],
   "metadata": {
    "collapsed": false
   },
   "id": "bdcaa44b8331a276"
  },
  {
   "cell_type": "code",
   "execution_count": null,
   "id": "e4280fdf-24d4-48ac-a318-e8d933a146b4",
   "metadata": {},
   "outputs": [],
   "source": [
    "print(\"\\nSummary for connections:\")\n",
    "print(connections_df.describe())\n",
    "print(\"\\nSummary for processes:\")\n",
    "print(processes_df.describe())\n",
    "print(\"\\nSummary for profiles:\")\n",
    "print(profiles_df.describe())\n",
    "print(\"\\nSummary for devices:\")\n",
    "print(devices_df.describe())"
   ]
  },
  {
   "cell_type": "markdown",
   "source": [
    "From this output we can see that a summary statistics for the datasets. \n",
    "The IMEI indicates an ID of the device.\n",
    "The columns in the connections dataset seem consistent.\n",
    "The columns in the processes dataset suggest higher standard deviation."
   ],
   "metadata": {
    "collapsed": false
   },
   "id": "7d9aa767b7f904b"
  },
  {
   "cell_type": "code",
   "execution_count": null,
   "id": "1a872392-0bf6-4166-8390-4ffc158f8154",
   "metadata": {},
   "outputs": [],
   "source": [
    "print(\"\\nSummary for profiles:\")\n",
    "print(profiles_df.describe(exclude=np.number))\n",
    "print(\"\\nSummary for devices:\")\n",
    "print(devices_df.describe(exclude=np.number))"
   ]
  },
  {
   "cell_type": "markdown",
   "source": [
    "The result of profiles and devices description does not suggest that the data could be relevant to mwra"
   ],
   "metadata": {
    "collapsed": false
   },
   "id": "6addf51e76f6667f"
  },
  {
   "cell_type": "code",
   "execution_count": null,
   "id": "d9672525-e2a8-4cf7-b894-2d3c16b1ca17",
   "metadata": {},
   "outputs": [],
   "source": [
    "print(\"\\nInfo for connections:\")\n",
    "print(connections_df.info())\n",
    "print(\"\\nInfo for processes:\")\n",
    "print(processes_df.info())\n",
    "print(\"\\nInfo for profiles:\")\n",
    "print(profiles_df.info())\n",
    "print(\"\\nInfo for devices:\")\n",
    "print(devices_df.info())"
   ]
  },
  {
   "cell_type": "markdown",
   "source": [
    "This output provides us with information about the datasets, like the amount of non null records or variable types.\n",
    "We can see that the profiles and devices contain mostly object-like data, and connections and processes contain mostly floats.\n",
    "Other than that we acn also see that the more important data to us (processes and connections) do not contain missing values."
   ],
   "metadata": {
    "collapsed": false
   },
   "id": "41dc98f944e42497"
  },
  {
   "cell_type": "code",
   "execution_count": null,
   "id": "1a25c67e-42a3-4d9e-9f03-e875dc346a58",
   "metadata": {},
   "outputs": [],
   "source": [
    "#Combine datasets\n",
    "combined_df = connections_df.merge(processes_df, on='imei', how='inner')\\\n",
    "                            .merge(profiles_df, on='imei', how='inner')\\\n",
    "                            .merge(devices_df, on='imei', how='inner')\n",
    "combined_df = combined_df.drop_duplicates()\n",
    "print(combined_df.shape)"
   ]
  },
  {
   "cell_type": "markdown",
   "source": [
    "Here we attempt to join the datasets, which does not result in anything useful, since there are multiple records of the same imei in some datasets."
   ],
   "metadata": {
    "collapsed": false
   },
   "id": "e87620f5ccfd6d8c"
  },
  {
   "cell_type": "markdown",
   "source": [
    "B) Attribute Analysis"
   ],
   "metadata": {
    "collapsed": false
   },
   "id": "2ccc0e3bd0439f74"
  },
  {
   "cell_type": "code",
   "execution_count": null,
   "id": "955bd189-4a25-4211-8b13-f9745e049dd0",
   "metadata": {},
   "outputs": [],
   "source": [
    "selected_attributes_connections = ['c.android.youtube', 'c.android.gm', 'c.android.chrome', 'c.katana', 'c.updateassist'] \n",
    "selected_attributes_processes = ['p.android.settings', 'p.android.packageinstaller', 'p.android.gm', 'p.system', 'p.android.externalstorage']"
   ]
  },
  {
   "cell_type": "code",
   "execution_count": null,
   "outputs": [],
   "source": [
    "def plot_and_describe(df, attributes):\n",
    "        for attribute in attributes:\n",
    "            sns.histplot(df[attribute], kde=True)\n",
    "            plt.title(f'Distribution of {attribute}')\n",
    "            plt.show()\n",
    "            print(f'Descriptive statistics for {attribute}:')\n",
    "            print(df[attribute].describe())"
   ],
   "metadata": {
    "collapsed": false
   },
   "id": "e5166647bd1c4938"
  },
  {
   "cell_type": "code",
   "execution_count": null,
   "outputs": [],
   "source": [
    "plot_and_describe(connections_df, selected_attributes_connections)\n",
    "plot_and_describe(processes_df, selected_attributes_processes)"
   ],
   "metadata": {
    "collapsed": false
   },
   "id": "5ccfee5407f32966"
  },
  {
   "cell_type": "markdown",
   "source": [],
   "metadata": {
    "collapsed": false
   },
   "id": "9dc4adacf5c2695b"
  },
  {
   "cell_type": "markdown",
   "source": [
    "We chose the selected attributes based on the correlation matrix (used later), using ones that have high correlation with MWRA.\n",
    "From the resulted graphs for connections, we can see that the output is often normally distributed, which suggests a low amount of extremes and not a lot of skewness.\n",
    "\n",
    "From the resulted graphs for processes, we can see more normal distribution, suggesting that the data is distributed around the mean. This shows a fewer extremes and consistent behavior."
   ],
   "metadata": {
    "collapsed": false
   },
   "id": "4732e8955f3de95e"
  },
  {
   "cell_type": "markdown",
   "source": [
    "C) Pair analysis"
   ],
   "metadata": {
    "collapsed": false
   },
   "id": "ea6f39ee60c1f93a"
  },
  {
   "cell_type": "code",
   "execution_count": null,
   "id": "f9e8a864-bea5-41e8-981a-6ed79b9da8a6",
   "metadata": {},
   "outputs": [],
   "source": [
    "connections_numeric_df = connections_df.select_dtypes(include=[np.number])\n",
    "processes_numeric_df = processes_df.select_dtypes(include=[np.number])"
   ]
  },
  {
   "cell_type": "code",
   "execution_count": null,
   "id": "d2a4c5bd-a2ca-45fa-8ddb-422509e33918",
   "metadata": {},
   "outputs": [],
   "source": [
    "plt.figure(figsize=(12, 8))\n",
    "sns.heatmap(connections_numeric_df.corr(), annot=True, cmap=\"coolwarm\", fmt=\".2f\")\n",
    "plt.xticks(rotation=45)\n",
    "plt.yticks(rotation=0)\n",
    "plt.title(\"Correlation Heatmap for Connections Dataset\")\n",
    "plt.show()"
   ]
  },
  {
   "cell_type": "code",
   "execution_count": null,
   "id": "f8f8bdc8-9aa3-4c96-91f6-336167c303c9",
   "metadata": {},
   "outputs": [],
   "source": [
    "columns_to_exclude = ['c.UCMobile.x86', 'c.UCMobile.intl', 'c.raider', 'c.android.vending', 'imei']\n",
    "filtered_connections_df = connections_numeric_df.drop(columns=columns_to_exclude)\n",
    "sns.pairplot(filtered_connections_df)\n",
    "plt.show()"
   ]
  },
  {
   "cell_type": "markdown",
   "source": [
    "The results of pair analysis on the connections dataset shows that there are 6 variables that have some correlation with MWRA. We then used those to create pair plots. The pair plots show us in what way are the variables related to each other. For example, with higher usage of c.android.youtube, c.katana also rises."
   ],
   "metadata": {
    "collapsed": false
   },
   "id": "9b516df82f0f055d"
  },
  {
   "cell_type": "code",
   "execution_count": null,
   "id": "f5453e34-d23c-4d48-8809-0e75513ee9d4",
   "metadata": {},
   "outputs": [],
   "source": [
    "plt.figure(figsize=(12, 8))\n",
    "sns.heatmap(processes_numeric_df.corr(), annot=True, cmap=\"coolwarm\", fmt=\".1f\")\n",
    "plt.xticks(rotation=90)\n",
    "plt.yticks(rotation=0)\n",
    "plt.title(\"Correlation Heatmap for Processes Dataset\")\n",
    "plt.show()"
   ]
  },
  {
   "cell_type": "code",
   "execution_count": null,
   "id": "a019095f-1de0-4bbe-abc7-d95ce46b4014",
   "metadata": {},
   "outputs": [],
   "source": [
    "columns_to_exclude = ['p.google', 'p.olauncher', 'p.android.gms', 'p.browser.provider', 'p.process.gapps', 'p.dogalize', 'p.android.vending', 'p.gms.persistent', 'p.android.defcontainer', 'p.simulator', 'p.notifier', 'p.inputmethod.latin', 'p.katana', 'imei']\n",
    "filtered_processes_df = processes_numeric_df.drop(columns=columns_to_exclude)\n",
    "sns.pairplot(filtered_processes_df)\n",
    "plt.show()"
   ]
  },
  {
   "cell_type": "markdown",
   "source": [
    "The results of pair analysis on the processes dataset shows that there are 5 variables that have some correlation with MWRA. We then used those to create pair plots. The pair plots show us in what way are the variables related to each other. For example, with higher usage of p.system, p.android.gm is lower."
   ],
   "metadata": {
    "collapsed": false
   },
   "id": "d78f9844d087aba4"
  },
  {
   "cell_type": "markdown",
   "source": [
    "D) Pair analysis focused on predicted attribute"
   ],
   "metadata": {
    "collapsed": false
   },
   "id": "809a2539597901b1"
  },
  {
   "cell_type": "code",
   "execution_count": null,
   "outputs": [],
   "source": [
    "def analyze_correlations(df, target_column):\n",
    "    correlations = df.corr()[target_column].sort_values()\n",
    "    print(f\"Correlations with {target_column}:\\n\", correlations)\n",
    "    return correlations"
   ],
   "metadata": {
    "collapsed": false
   },
   "id": "d92e12717baa121c"
  },
  {
   "cell_type": "code",
   "execution_count": null,
   "outputs": [],
   "source": [
    "def plot_predictor_relationships(df, target_column, predictors):\n",
    "    for predictor in predictors:\n",
    "        sns.scatterplot(x=df[predictor], y=df[target_column])\n",
    "        plt.title(f'Relation between {predictor} and {target_column}')\n",
    "        plt.show()"
   ],
   "metadata": {
    "collapsed": false
   },
   "id": "dd4ae2503f2c7117"
  },
  {
   "cell_type": "code",
   "execution_count": null,
   "outputs": [],
   "source": [
    "connections_correlations = analyze_correlations(connections_numeric_df, 'mwra')\n",
    "connections_potential_predictors = connections_correlations.index[-5:]\n",
    "plot_predictor_relationships(connections_df, 'mwra', connections_potential_predictors)"
   ],
   "metadata": {
    "collapsed": false
   },
   "id": "b22d44ea1ebd25c2"
  },
  {
   "cell_type": "markdown",
   "source": [
    "From the results of the pair analysis focused on mwra column, we can see that the corelations go up to .57. Other than that we also created some pair plots, which show that the chance of mwra being 1 is higher with the usage of c.android.youtube."
   ],
   "metadata": {
    "collapsed": false
   },
   "id": "eb35a82a1444770b"
  },
  {
   "cell_type": "code",
   "execution_count": null,
   "outputs": [],
   "source": [
    "processes_correlations = analyze_correlations(processes_numeric_df, 'mwra')\n",
    "processes_potential_predictors = processes_correlations.index[-5:]\n",
    "plot_predictor_relationships(processes_df, 'mwra', processes_potential_predictors)"
   ],
   "metadata": {
    "collapsed": false
   },
   "id": "9750f65ec80931e0"
  },
  {
   "cell_type": "markdown",
   "source": [
    "The output of this pair analysis focused on mwra in processes dataset, shows similar results as the one for connections. The results show correlation ranges up to .3. The plots are also similar, and show for example that mwra is likely related to high usage of p.system."
   ],
   "metadata": {
    "collapsed": false
   },
   "id": "2578ca6f61eacf4d"
  },
  {
   "cell_type": "markdown",
   "source": [
    "2) Identification of problems, integration and cleaning of data\n",
    "A) Identification of problems"
   ],
   "metadata": {
    "collapsed": false
   },
   "id": "247b659bc1ef34df"
  },
  {
   "cell_type": "code",
   "execution_count": null,
   "id": "bf004b8f-4c9e-4746-a85e-75021e434566",
   "metadata": {},
   "outputs": [],
   "source": [
    "#Check missing values\n",
    "print(\"Rows with missing values in connections:\", connections_df[connections_df.isnull().any(axis=1)].shape[0])\n",
    "print(\"Rows with missing values in processes:\", processes_df[processes_df.isnull().any(axis=1)].shape[0])\n",
    "print(\"Rows with missing values in profiles:\", profiles_df[profiles_df.isnull().any(axis=1)].shape[0])\n",
    "print(\"Rows with missing values in devices:\", devices_df[devices_df.isnull().any(axis=1)].shape[0])\n",
    "print(\"\\nMissing values in profiles:\")\n",
    "print(profiles_df.isnull().sum())"
   ]
  },
  {
   "cell_type": "markdown",
   "source": [
    "This output shows the sum of missing values, from which we can see that the most of them are located in profiles, and we show in which columns"
   ],
   "metadata": {
    "collapsed": false
   },
   "id": "5c5cbf4290c88267"
  },
  {
   "cell_type": "code",
   "execution_count": null,
   "outputs": [],
   "source": [
    "def convert_to_numeric(df, df_name):\n",
    "    for col in df.columns:\n",
    "        if df[col].dtype == 'object':\n",
    "            try:\n",
    "                df[col] = pd.to_numeric(df[col])\n",
    "            except ValueError:\n",
    "                print(f\"{df_name} - Non-numeric values found in column {col}\")\n",
    "    return df"
   ],
   "metadata": {
    "collapsed": false
   },
   "id": "2a0c6cf4fd02b851"
  },
  {
   "cell_type": "code",
   "execution_count": null,
   "outputs": [],
   "source": [
    "connections_df = convert_to_numeric(connections_df, \"Connections\")\n",
    "processes_df = convert_to_numeric(processes_df, \"Processes\")\n",
    "devices_df = convert_to_numeric(devices_df, \"Devices\")\n",
    "profiles_df = convert_to_numeric(profiles_df, \"Profiles\")"
   ],
   "metadata": {
    "collapsed": false
   },
   "id": "9133b3f868bd1621"
  },
  {
   "cell_type": "markdown",
   "source": [
    "Next up we viewed the non-numeric values in each dataset, indicating that processes contain a timestamp which is likely in datetime format, and the rest of non-numeric values come from the profiles and devices datasets."
   ],
   "metadata": {
    "collapsed": false
   },
   "id": "790aff99f7bd7eec"
  },
  {
   "cell_type": "code",
   "execution_count": null,
   "outputs": [],
   "source": [
    "def generate_boxplots(df, df_name):\n",
    "    numeric_columns = df.select_dtypes(include=[np.number]).columns\n",
    "    for col in numeric_columns:\n",
    "        sns.boxplot(x=df[col])\n",
    "        plt.title(f'Boxplot of {col} ({df_name})')\n",
    "        plt.show()"
   ],
   "metadata": {
    "collapsed": false
   },
   "id": "58be1b4cff50d76c"
  },
  {
   "cell_type": "code",
   "execution_count": null,
   "outputs": [],
   "source": [
    "generate_boxplots(connections_df, \"Connections\")\n",
    "generate_boxplots(processes_df, \"Processes\")"
   ],
   "metadata": {
    "collapsed": false
   },
   "id": "9cc9e4eefd49f8ef"
  },
  {
   "cell_type": "markdown",
   "source": [
    "B) Missing values"
   ],
   "metadata": {
    "collapsed": false
   },
   "id": "6e0388bba85c9f10"
  },
  {
   "cell_type": "code",
   "execution_count": null,
   "outputs": [],
   "source": [
    "#set treshold as 0.05 -> 5%\n",
    "#set impute method to knn or mean\n",
    "def handle_missing_values(df, threshold, impute_method):\n",
    "    df = df.dropna(thresh=int(len(df) * threshold), axis=1)\n",
    "\n",
    "    #essential_columns = ['mwra'] \n",
    "    #df = df.dropna(subset=essential_columns)\n",
    "    \n",
    "    if impute_method == 'mean':\n",
    "        for col in df.select_dtypes(include=[np.number]).columns:\n",
    "            df[col] = df[col].fillna(df[col].mean())\n",
    "    elif impute_method == 'knn':\n",
    "        knn_imputer = KNNImputer(n_neighbors=5)\n",
    "        df[df.select_dtypes(include=[np.number]).columns] = knn_imputer.fit_transform(df.select_dtypes(include=[np.number]))\n",
    "    \n",
    "    return df"
   ],
   "metadata": {
    "collapsed": false
   },
   "id": "10297b1c-93a5-4324-9075-dd648c2b6d73"
  },
  {
   "cell_type": "code",
   "execution_count": null,
   "id": "ff6e94a9-1339-4a3e-9ac8-f5c53c51920d",
   "metadata": {},
   "outputs": [],
   "source": [
    "missing_handled_connections = handle_missing_values(connections_df, 0.85, 'mean') \n",
    "print(\"Rows with missing values in profiles:\", profiles_df[profiles_df.isnull().any(axis=1)].shape[0])\n",
    "m_profiles_df = handle_missing_values(profiles_df, 0.85, '') # can not replace values since they are not numeric \n",
    "print(\"Rows with missing values in profiles:\", m_profiles_df[m_profiles_df.isnull().any(axis=1)].shape[0])"
   ]
  },
  {
   "cell_type": "markdown",
   "source": [
    "In this output we tried to treat missong values. We used 2 approaches, to drop the columns where there is more than 15% values missing, and after that try to replace the missing values if there are still some left. We do this by either Knn or mean as imputers. Unfortunately the data that contains missing values does not contain numerical values - we can not impute those."
   ],
   "metadata": {
    "collapsed": false
   },
   "id": "364c231526827e75"
  },
  {
   "cell_type": "markdown",
   "source": [
    "C) Outlier Detection"
   ],
   "metadata": {
    "collapsed": false
   },
   "id": "a5874e7d4c1cac7"
  },
  {
   "cell_type": "code",
   "execution_count": null,
   "id": "c6fb04de-d3e5-4ca2-a6ab-6339d77d3ad0",
   "metadata": {},
   "outputs": [],
   "source": [
    "#method = remove / replace \n",
    "#lower_quantile = 0.5\n",
    "#upper_quartile = 0.95\n",
    "\n",
    "def handle_outliers(df, method, lower_quantile, upper_quantile):\n",
    "    numeric_columns = df.select_dtypes(include=[np.number]).columns\n",
    "    for col in numeric_columns:\n",
    "        lower_bound = df[col].quantile(lower_quantile)\n",
    "        upper_bound = df[col].quantile(upper_quantile)\n",
    "        \n",
    "        if method == 'remove':\n",
    "            df = df[(df[col] >= lower_bound) & (df[col] <= upper_bound)]\n",
    "        elif method == 'replace':\n",
    "            df[col] = np.where(df[col] < lower_bound, lower_bound, \n",
    "                               np.where(df[col] > upper_bound, upper_bound, df[col]))\n",
    "    \n",
    "    return df"
   ]
  },
  {
   "cell_type": "code",
   "execution_count": null,
   "id": "cb1c0724-b2c1-4973-9e9c-e61619ecb1d2",
   "metadata": {},
   "outputs": [],
   "source": [
    "rep_connections_df = handle_outliers(connections_df, 'replace', 0.5, 0.95)\n",
    "rem_connections_df = handle_outliers(connections_df, 'remove', 0.1, 0.9)\n",
    "\n",
    "print(connections_df.info())\n",
    "print(rep_connections_df.info())\n",
    "print(rem_connections_df.info())\n",
    "\n"
   ]
  },
  {
   "cell_type": "markdown",
   "source": [
    "In this output we can see how to handle outliers. There are 2 approaches we used, replacing values - if the value was below the specified lower bound, it was set to that lower bound and if the value was higher than the top bound, it was set to that bound instead. The second approach we used was to simply remove the values that were out of bounds."
   ],
   "metadata": {
    "collapsed": false
   },
   "id": "cd68c2aca95d49fd"
  },
  {
   "cell_type": "code",
   "execution_count": null,
   "outputs": [],
   "source": [],
   "metadata": {
    "collapsed": false
   },
   "id": "cdf06e975d424210"
  }
 ],
 "metadata": {
  "kernelspec": {
   "display_name": "Python 3 (ipykernel)",
   "language": "python",
   "name": "python3"
  },
  "language_info": {
   "codemirror_mode": {
    "name": "ipython",
    "version": 3
   },
   "file_extension": ".py",
   "mimetype": "text/x-python",
   "name": "python",
   "nbconvert_exporter": "python",
   "pygments_lexer": "ipython3",
   "version": "3.11.5"
  }
 },
 "nbformat": 4,
 "nbformat_minor": 5
}
