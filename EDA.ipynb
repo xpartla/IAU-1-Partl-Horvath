{
 "cells": [
  {
   "cell_type": "code",
   "execution_count": null,
   "id": "initial_id",
   "metadata": {},
   "outputs": [],
   "source": [
    "import pandas as pd\n",
    "import numpy as np\n",
    "import matplotlib.pyplot as plt\n",
    "import seaborn as sns\n",
    "import statsmodels.api as sm\n",
    "import statsmodels.stats.api as sms\n",
    "import scipy.stats as stats\n",
    "from sklearn import preprocessing\n",
    "from sklearn.impute import KNNImputer"
   ]
  },
  {
   "cell_type": "code",
   "execution_count": null,
   "id": "d9eba5e0-224f-4f96-8fb9-b988b8542bac",
   "metadata": {},
   "outputs": [],
   "source": [
    "#load data"
   ]
  },
  {
   "cell_type": "code",
   "execution_count": null,
   "id": "c2c1ef9e216345d2",
   "metadata": {
    "collapsed": false,
    "jupyter": {
     "outputs_hidden": false
    }
   },
   "outputs": [],
   "source": [
    "connections_df = pd.read_csv('data/connections.csv',delimiter='\\t', on_bad_lines='skip')\n",
    "processes_df = pd.read_csv('data/processes.csv',delimiter='\\t', on_bad_lines='skip')\n",
    "profiles_df = pd.read_csv('data/profiles.csv',delimiter='\\t', on_bad_lines='skip')\n",
    "devices_df = pd.read_csv('data/devices.csv',delimiter='\\t', on_bad_lines='skip')"
   ]
  },
  {
   "cell_type": "code",
   "execution_count": null,
   "id": "67f2f8e7-0e4c-4c6e-99f9-03c0ec87b6a2",
   "metadata": {},
   "outputs": [],
   "source": [
    "#1)\n",
    "#A) Analyze daata structures"
   ]
  },
  {
   "cell_type": "code",
   "execution_count": null,
   "id": "6dc28cbc-de3e-4823-8fab-83e10ec8d068",
   "metadata": {},
   "outputs": [],
   "source": [
    "c1 = connections_df.columns\n",
    "c2 = processes_df.columns\n",
    "c3 = profiles_df.columns\n",
    "c4 = devices_df.columns\n",
    "\n",
    "print(\"connections :\", c1)\n",
    "print(\"processes :\", c2)\n",
    "print(\"profiles :\", c3)\n",
    "print(\"devices :\", c4)"
   ]
  },
  {
   "cell_type": "code",
   "execution_count": null,
   "id": "e4280fdf-24d4-48ac-a318-e8d933a146b4",
   "metadata": {},
   "outputs": [],
   "source": [
    "print(\"\\nSummary for connections:\")\n",
    "print(connections_df.describe())\n",
    "print(\"\\nSummary for processes:\")\n",
    "print(processes_df.describe())\n",
    "print(\"\\nSummary for profiles:\")\n",
    "print(profiles_df.describe())\n",
    "print(\"\\nSummary for devices:\")\n",
    "print(devices_df.describe())"
   ]
  },
  {
   "cell_type": "code",
   "execution_count": null,
   "id": "1a872392-0bf6-4166-8390-4ffc158f8154",
   "metadata": {},
   "outputs": [],
   "source": [
    "print(\"\\nSummary for profiles:\")\n",
    "print(profiles_df.describe(exclude=np.number))\n",
    "print(\"\\nSummary for devices:\")\n",
    "print(devices_df.describe(exclude=np.number))"
   ]
  },
  {
   "cell_type": "code",
   "execution_count": null,
   "id": "d9672525-e2a8-4cf7-b894-2d3c16b1ca17",
   "metadata": {},
   "outputs": [],
   "source": [
    "print(\"\\nInfo for connections:\")\n",
    "print(connections_df.info())\n",
    "print(\"\\nInfo for processes:\")\n",
    "print(processes_df.info())\n",
    "print(\"\\nInfo for profiles:\")\n",
    "print(profiles_df.info())\n",
    "print(\"\\nInfo for devices:\")\n",
    "print(devices_df.info())"
   ]
  },
  {
   "cell_type": "code",
   "execution_count": null,
   "id": "1a25c67e-42a3-4d9e-9f03-e875dc346a58",
   "metadata": {},
   "outputs": [],
   "source": [
    "#Combine datasets\n",
    "combined_df = connections_df.merge(processes_df, on='imei', how='inner')\\\n",
    "                            .merge(profiles_df, on='imei', how='inner')\\\n",
    "                            .merge(devices_df, on='imei', how='inner')\n",
    "combined_df = combined_df.drop_duplicates()\n",
    "print(combined_df.shape)"
   ]
  },
  {
   "cell_type": "code",
   "execution_count": null,
   "id": "62bfa5f3-cd0e-4b1b-8ce2-37cacc676c6d",
   "metadata": {},
   "outputs": [],
   "source": [
    "#B) Attribute analysis\n",
    "# We chose the selected attributes based on the correlation matrix, using ones that have high correlation with MWRA"
   ]
  },
  {
   "cell_type": "code",
   "execution_count": null,
   "id": "955bd189-4a25-4211-8b13-f9745e049dd0",
   "metadata": {},
   "outputs": [],
   "source": [
    "selected_attributes_connections = ['c.android.youtube', 'c.android.gm', 'c.android.chrome', 'c.katana', 'c.updateassist'] \n",
    "selected_attributes_processes = ['p.android.settings', 'p.android.packageinstaller', 'p.android.gm', 'p.system', 'p.android.externalstorage']"
   ]
  },
  {
   "cell_type": "code",
   "execution_count": null,
   "id": "899632dd-7102-47c2-b1f2-fe11040f8278",
   "metadata": {},
   "outputs": [],
   "source": [
    "for attribute in selected_attributes_connections:\n",
    "    sns.histplot(connections_df[attribute])\n",
    "    plt.title(f'Distribution of {attribute}')\n",
    "    plt.show()\n",
    "    print(connections_df[attribute].describe())"
   ]
  },
  {
   "cell_type": "code",
   "execution_count": null,
   "id": "c3986566-81d0-4a70-b00d-3aad94974233",
   "metadata": {},
   "outputs": [],
   "source": [
    "for attribute in selected_attributes_processes:\n",
    "    sns.histplot(processes_df[attribute])\n",
    "    plt.title(f'Distribution of {attribute}')\n",
    "    plt.show()\n",
    "    print(processes_df[attribute].describe())"
   ]
  },
  {
   "cell_type": "code",
   "execution_count": null,
   "id": "7320f976-c1a6-44cf-b49f-a479cd341e58",
   "metadata": {},
   "outputs": [],
   "source": [
    "#C) Pair analysis"
   ]
  },
  {
   "cell_type": "code",
   "execution_count": null,
   "id": "f9e8a864-bea5-41e8-981a-6ed79b9da8a6",
   "metadata": {},
   "outputs": [],
   "source": [
    "connections_numeric_df = connections_df.select_dtypes(include=[np.number])\n",
    "processes_numeric_df = processes_df.select_dtypes(include=[np.number])"
   ]
  },
  {
   "cell_type": "code",
   "execution_count": null,
   "id": "d2a4c5bd-a2ca-45fa-8ddb-422509e33918",
   "metadata": {},
   "outputs": [],
   "source": [
    "plt.figure(figsize=(12, 8))\n",
    "sns.heatmap(connections_numeric_df.corr(), annot=True, cmap=\"coolwarm\", fmt=\".2f\")\n",
    "plt.xticks(rotation=45)\n",
    "plt.yticks(rotation=0)\n",
    "plt.title(\"Correlation Heatmap for Connections Dataset\")\n",
    "plt.show()"
   ]
  },
  {
   "cell_type": "code",
   "execution_count": null,
   "id": "f8f8bdc8-9aa3-4c96-91f6-336167c303c9",
   "metadata": {},
   "outputs": [],
   "source": [
    "columns_to_exclude = ['c.UCMobile.x86', 'c.UCMobile.intl', 'c.raider', 'c.android.vending', 'imei']\n",
    "filtered_connections_df = connections_numeric_df.drop(columns=columns_to_exclude)\n",
    "sns.pairplot(filtered_connections_df)\n",
    "plt.show()"
   ]
  },
  {
   "cell_type": "code",
   "execution_count": null,
   "id": "f5453e34-d23c-4d48-8809-0e75513ee9d4",
   "metadata": {},
   "outputs": [],
   "source": [
    "plt.figure(figsize=(12, 8))\n",
    "sns.heatmap(processes_numeric_df.corr(), annot=True, cmap=\"coolwarm\", fmt=\".1f\")\n",
    "plt.xticks(rotation=90)\n",
    "plt.yticks(rotation=0)\n",
    "plt.title(\"Correlation Heatmap for Processes Dataset\")\n",
    "plt.show()"
   ]
  },
  {
   "cell_type": "code",
   "execution_count": null,
   "id": "a019095f-1de0-4bbe-abc7-d95ce46b4014",
   "metadata": {},
   "outputs": [],
   "source": [
    "columns_to_exclude = ['p.google', 'p.olauncher', 'p.android.gms', 'p.browser.provider', 'p.process.gapps', 'p.dogalize', 'p.android.vending', 'p.gms.persistent', 'p.android.defcontainer', 'p.simulator', 'p.notifier', 'p.inputmethod.latin', 'p.katana', 'imei']\n",
    "filtered_processes_df = processes_numeric_df.drop(columns=columns_to_exclude)\n",
    "sns.pairplot(filtered_processes_df)\n",
    "plt.show()"
   ]
  },
  {
   "cell_type": "code",
   "execution_count": null,
   "id": "41619c2a-77df-4555-8f29-724ce27beea1",
   "metadata": {},
   "outputs": [],
   "source": [
    "#D) Pair analysis focused on predicted attribute"
   ]
  },
  {
   "cell_type": "code",
   "execution_count": null,
   "id": "2946a352-1876-4578-a5a4-4135cf4f3c5f",
   "metadata": {},
   "outputs": [],
   "source": [
    "connections_correlations = connections_numeric_df.corr()['mwra'].sort_values()\n",
    "print(\"Connections correlations with mwra:\\n\", connections_correlations)"
   ]
  },
  {
   "cell_type": "code",
   "execution_count": null,
   "id": "dda42cf3-214c-4889-a8b6-1490a342ec35",
   "metadata": {},
   "outputs": [],
   "source": [
    "connections_potential_predictors = connections_correlations.index[-5:]\n",
    "for predictor in connections_potential_predictors:\n",
    "    sns.scatterplot(x=connections_df[predictor], y=connections_df['mwra'])\n",
    "    plt.title(f'Relation between {predictor} and mwra')\n",
    "    plt.show()"
   ]
  },
  {
   "cell_type": "code",
   "execution_count": null,
   "id": "d0bc59a2-51d0-4f14-b605-263e3d41a44a",
   "metadata": {},
   "outputs": [],
   "source": [
    "X = connections_df[connections_potential_predictors]\n",
    "y = connections_df['mwra'] \n",
    "X = sm.add_constant(X)\n",
    "model = sm.OLS(y, X).fit()\n",
    "print(model.summary())"
   ]
  },
  {
   "cell_type": "code",
   "execution_count": null,
   "id": "770b5b02-9ee5-465b-ab8b-11b57cb3feb0",
   "metadata": {},
   "outputs": [],
   "source": [
    "processes_correlations = processes_numeric_df.corr()['mwra'].sort_values()\n",
    "print(\"Processes correlations with mwra:\\n\", processes_correlations)"
   ]
  },
  {
   "cell_type": "code",
   "execution_count": null,
   "id": "e46ed0b9-c256-49a0-a894-45ad9e476baa",
   "metadata": {},
   "outputs": [],
   "source": [
    "processes_potential_predictors = processes_correlations.index[-5:]\n",
    "for predictor in processes_potential_predictors:\n",
    "    sns.scatterplot(x=processes_df[predictor], y=processes_df['mwra'])\n",
    "    plt.title(f'Relation between {predictor} and mwra')\n",
    "    plt.show()"
   ]
  },
  {
   "cell_type": "code",
   "execution_count": null,
   "id": "9e84bfc4-60dc-4a36-b5d0-4d4fdf78081c",
   "metadata": {},
   "outputs": [],
   "source": [
    "X = processes_df[processes_potential_predictors] \n",
    "y = processes_df['mwra'] \n",
    "\n",
    "X = sm.add_constant(X)\n",
    "model = sm.OLS(y, X).fit()\n",
    "print(model.summary())"
   ]
  },
  {
   "cell_type": "code",
   "execution_count": null,
   "id": "81d41562-a050-4ab4-9c41-ab830155025f",
   "metadata": {},
   "outputs": [],
   "source": [
    "#2\n",
    "#A identification of problems in data"
   ]
  },
  {
   "cell_type": "code",
   "execution_count": null,
   "id": "fb22be26-6e1b-46b9-8cd9-e40442a1d7ca",
   "metadata": {},
   "outputs": [],
   "source": [
    "print(\"Duplicated records in connections:\", connections_df.duplicated().sum())\n",
    "print(\"Duplicated records in processes:\", processes_df.duplicated().sum())\n",
    "print(\"Duplicated records in profiles:\", profiles_df.duplicated().sum())\n",
    "print(\"Duplicated records in devices:\", devices_df.duplicated().sum())"
   ]
  },
  {
   "cell_type": "code",
   "execution_count": null,
   "id": "bf004b8f-4c9e-4746-a85e-75021e434566",
   "metadata": {},
   "outputs": [],
   "source": [
    "#Check missing values\n",
    "print(\"Rows with missing values in connections:\", connections_df[connections_df.isnull().any(axis=1)].shape[0])\n",
    "print(\"Rows with missing values in processes:\", processes_df[processes_df.isnull().any(axis=1)].shape[0])\n",
    "print(\"Rows with missing values in profiles:\", profiles_df[profiles_df.isnull().any(axis=1)].shape[0])\n",
    "print(\"Rows with missing values in devices:\", devices_df[devices_df.isnull().any(axis=1)].shape[0])\n",
    "print(\"\\nMissing values in profiles:\")\n",
    "print(profiles_df.isnull().sum())"
   ]
  },
  {
   "cell_type": "code",
   "execution_count": null,
   "id": "63c20d18-b873-471f-a541-6c6125e39568",
   "metadata": {},
   "outputs": [],
   "source": [
    "for col in connections_df.columns:\n",
    "    if connections_df[col].dtype == 'object':\n",
    "        try:\n",
    "            connections_df[col] = pd.to_numeric(connections_df[col])\n",
    "        except ValueError:\n",
    "            print(f\"Connections - Non-numeric values found in column {col}\")"
   ]
  },
  {
   "cell_type": "code",
   "execution_count": null,
   "id": "95c5b2c6-231e-4d59-a89b-e560c8dd3cbe",
   "metadata": {},
   "outputs": [],
   "source": [
    "for col in processes_df.columns:\n",
    "    if processes_df[col].dtype == 'object':\n",
    "        try:\n",
    "            processes_df[col] = pd.to_numeric(processes_df[col])\n",
    "        except ValueError:\n",
    "            print(f\"Processes - Non-numeric values found in column {col}\")"
   ]
  },
  {
   "cell_type": "code",
   "execution_count": null,
   "id": "4c292ce7-cb61-4a35-8eae-9c897baa6cea",
   "metadata": {},
   "outputs": [],
   "source": [
    "for col in devices_df.columns:\n",
    "    if devices_df[col].dtype == 'object':\n",
    "        try:\n",
    "            devices_df[col] = pd.to_numeric(devices_df[col])\n",
    "        except ValueError:\n",
    "            print(f\"Devices - Non-numeric values found in column {col}\")"
   ]
  },
  {
   "cell_type": "code",
   "execution_count": null,
   "id": "6fca805e-7c44-4b96-8b55-c8a8969c5f23",
   "metadata": {},
   "outputs": [],
   "source": [
    "for col in profiles_df.columns:\n",
    "    if profiles_df[col].dtype == 'object':\n",
    "        try:\n",
    "            profiles_df[col] = pd.to_numeric(profiles_df[col])\n",
    "        except ValueError:\n",
    "            print(f\"Profiles - Non-numeric values found in column {col}\")"
   ]
  },
  {
   "cell_type": "code",
   "execution_count": null,
   "id": "a42dfa7a-ab19-4b5d-8c98-253b9a64f124",
   "metadata": {},
   "outputs": [],
   "source": [
    "numeric_columns = connections_df.select_dtypes(include=[np.number]).columns\n",
    "for col in numeric_columns:\n",
    "    sns.boxplot(x=connections_df[col])\n",
    "    plt.title(f'Boxplot of {col}')\n",
    "    plt.show()"
   ]
  },
  {
   "cell_type": "code",
   "execution_count": null,
   "id": "77aad8c5-1949-4448-a1ae-02278003d58e",
   "metadata": {},
   "outputs": [],
   "source": [
    "numeric_columns = processes_df.select_dtypes(include=[np.number]).columns\n",
    "for col in numeric_columns:\n",
    "    sns.boxplot(x=processes_df[col])\n",
    "    plt.title(f'Boxplot of {col}')\n",
    "    plt.show()"
   ]
  },
  {
   "cell_type": "code",
   "execution_count": null,
   "id": "bc379c6b-95ee-4a4c-83ef-7b0cbc2cbf13",
   "metadata": {},
   "outputs": [],
   "source": [
    "#B) Missing values"
   ]
  },
  {
   "cell_type": "code",
   "execution_count": null,
   "id": "10297b1c-93a5-4324-9075-dd648c2b6d73",
   "metadata": {},
   "outputs": [],
   "source": [
    "#set treshold as 0.05 -> 5%\n",
    "#set impute method to knn or mean\n",
    "def handle_missing_values(df, threshold, impute_method):\n",
    "    df = df.dropna(thresh=int(len(df) * threshold), axis=1)\n",
    "\n",
    "    #essential_columns = ['mwra'] \n",
    "    #df = df.dropna(subset=essential_columns)\n",
    "    \n",
    "    if impute_method == 'mean':\n",
    "        for col in df.select_dtypes(include=[np.number]).columns:\n",
    "            df[col] = df[col].fillna(df[col].mean())\n",
    "    elif impute_method == 'knn':\n",
    "        knn_imputer = KNNImputer(n_neighbors=5)\n",
    "        df[df.select_dtypes(include=[np.number]).columns] = knn_imputer.fit_transform(df.select_dtypes(include=[np.number]))\n",
    "    \n",
    "    return df"
   ]
  },
  {
   "cell_type": "code",
   "execution_count": null,
   "id": "ff6e94a9-1339-4a3e-9ac8-f5c53c51920d",
   "metadata": {},
   "outputs": [],
   "source": [
    "missing_handled_connections = handle_missing_values(connections_df, 0.05, 'mean') \n",
    "print(\"Rows with missing values in profiles:\", profiles_df[profiles_df.isnull().any(axis=1)].shape[0])\n",
    "m_profiles_df = handle_missing_values(profiles_df, 0.85, '') # can not replace values since they are not numeric \n",
    "print(\"Rows with missing values in profiles:\", m_profiles_df[m_profiles_df.isnull().any(axis=1)].shape[0])"
   ]
  },
  {
   "cell_type": "code",
   "execution_count": null,
   "id": "5fd27688-5a99-407c-8558-ae80302300aa",
   "metadata": {},
   "outputs": [],
   "source": [
    "#C) Outlier detection"
   ]
  },
  {
   "cell_type": "code",
   "execution_count": null,
   "id": "c6fb04de-d3e5-4ca2-a6ab-6339d77d3ad0",
   "metadata": {},
   "outputs": [],
   "source": [
    "#method = remove / replace \n",
    "#lower_quantile = 0.5\n",
    "#upper_quartile = 0.95\n",
    "\n",
    "def handle_outliers(df, method, lower_quantile, upper_quantile):\n",
    "    numeric_columns = df.select_dtypes(include=[np.number]).columns\n",
    "    for col in numeric_columns:\n",
    "        lower_bound = df[col].quantile(lower_quantile)\n",
    "        upper_bound = df[col].quantile(upper_quantile)\n",
    "        \n",
    "        if method == 'remove':\n",
    "            df = df[(df[col] >= lower_bound) & (df[col] <= upper_bound)]\n",
    "        elif method == 'replace':\n",
    "            df[col] = np.where(df[col] < lower_bound, lower_bound, \n",
    "                               np.where(df[col] > upper_bound, upper_bound, df[col]))\n",
    "    \n",
    "    return df"
   ]
  },
  {
   "cell_type": "code",
   "execution_count": null,
   "id": "cb1c0724-b2c1-4973-9e9c-e61619ecb1d2",
   "metadata": {},
   "outputs": [],
   "source": [
    "o_connections_df = handle_outliers(connections_df, 'replace', 0.5, 0.95)\n",
    "print(connections_df.info())\n",
    "print(o_connections_df.info())\n"
   ]
  },
  {
   "cell_type": "code",
   "execution_count": null,
   "id": "48e10927-078c-457d-be17-e9a14c2599e5",
   "metadata": {},
   "outputs": [],
   "source": []
  }
 ],
 "metadata": {
  "kernelspec": {
   "display_name": "Python 3 (ipykernel)",
   "language": "python",
   "name": "python3"
  },
  "language_info": {
   "codemirror_mode": {
    "name": "ipython",
    "version": 3
   },
   "file_extension": ".py",
   "mimetype": "text/x-python",
   "name": "python",
   "nbconvert_exporter": "python",
   "pygments_lexer": "ipython3",
   "version": "3.11.5"
  }
 },
 "nbformat": 4,
 "nbformat_minor": 5
}
