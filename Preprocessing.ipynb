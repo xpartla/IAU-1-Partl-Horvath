{
 "cells": [
  {
   "cell_type": "code",
   "execution_count": null,
   "id": "initial_id",
   "metadata": {
    "collapsed": true
   },
   "outputs": [],
   "source": [
    "#### IAU Project Phase 2 - Data Preprocessing\n",
    "#### Andrej Horváth / Adam Partl\n",
    "#### Share of work : 50% / 50%"
   ]
  },
  {
   "cell_type": "code",
   "execution_count": 29,
   "outputs": [],
   "source": [
    "import pandas as pd\n",
    "from sklearn.model_selection import train_test_split\n",
    "import joblib\n",
    "from sklearn.pipeline import Pipeline\n",
    "from sklearn.compose import ColumnTransformer\n",
    "from sklearn.preprocessing import StandardScaler, MinMaxScaler, RobustScaler, PowerTransformer, PolynomialFeatures, QuantileTransformer, OneHotEncoder\n",
    "from sklearn.impute import SimpleImputer\n",
    "from sklearn.feature_selection import SelectKBest, SelectFromModel, RFE, f_classif, mutual_info_classif\n",
    "from sklearn.ensemble import RandomForestClassifier\n",
    "from sklearn.linear_model import LogisticRegression\n",
    "from sklearn.metrics import accuracy_score\n",
    "import matplotlib.pyplot as plt\n",
    "from sklearn.metrics import roc_curve, roc_auc_score"
   ],
   "metadata": {
    "collapsed": false,
    "ExecuteTime": {
     "end_time": "2024-11-01T12:25:44.102860500Z",
     "start_time": "2024-11-01T12:25:44.072095800Z"
    }
   },
   "id": "85bf36466aa06da2"
  },
  {
   "cell_type": "code",
   "execution_count": null,
   "outputs": [],
   "source": [
    "connections_df = pd.read_csv('data/connections.csv',delimiter='\\t', on_bad_lines='skip')\n",
    "processes_df = pd.read_csv('data/processes.csv',delimiter='\\t', on_bad_lines='skip')"
   ],
   "metadata": {
    "collapsed": false
   },
   "id": "4fe69bc6f273755d"
  },
  {
   "cell_type": "code",
   "execution_count": null,
   "outputs": [],
   "source": [
    "connections_df.head(), processes_df.head(), connections_df.columns, processes_df.columns\n"
   ],
   "metadata": {
    "collapsed": false
   },
   "id": "c6776a44eec9863b"
  },
  {
   "cell_type": "code",
   "execution_count": null,
   "outputs": [],
   "source": [
    "merged_df = pd.merge(connections_df, processes_df, on=['ts', 'imei'], how='inner')"
   ],
   "metadata": {
    "collapsed": false
   },
   "id": "5bbf9cac1d79f23c"
  },
  {
   "cell_type": "code",
   "execution_count": null,
   "outputs": [],
   "source": [
    "merged_df.head()"
   ],
   "metadata": {
    "collapsed": false
   },
   "id": "8f23f3e2eadb79c0"
  },
  {
   "cell_type": "code",
   "execution_count": null,
   "outputs": [],
   "source": [
    "differences = merged_df[merged_df['mwra_x'] != merged_df['mwra_y']]\n",
    "differences"
   ],
   "metadata": {
    "collapsed": false
   },
   "id": "68e86c165bcd4088"
  },
  {
   "cell_type": "code",
   "execution_count": null,
   "outputs": [],
   "source": [
    "merged_df = merged_df.drop(columns=['mwra_y']).rename(columns={'mwra_x': 'mwra'})"
   ],
   "metadata": {
    "collapsed": false
   },
   "id": "a643f884d308ecb1"
  },
  {
   "cell_type": "code",
   "execution_count": null,
   "outputs": [],
   "source": [
    "X = merged_df.drop(columns=['mwra', 'ts', 'imei'])\n",
    "y = merged_df['mwra']"
   ],
   "metadata": {
    "collapsed": false
   },
   "id": "88b05ecb2d135642"
  },
  {
   "cell_type": "code",
   "execution_count": null,
   "outputs": [],
   "source": [
    "X_train, X_test, y_train, y_test = train_test_split(X, y, test_size=0.2, random_state=42)"
   ],
   "metadata": {
    "collapsed": false
   },
   "id": "536b6500b94bd714"
  },
  {
   "cell_type": "code",
   "execution_count": null,
   "outputs": [],
   "source": [
    "X_train.shape, X_test.shape, y_train.shape, y_test.shape"
   ],
   "metadata": {
    "collapsed": false
   },
   "id": "772999b8a785a20"
  },
  {
   "cell_type": "markdown",
   "source": [
    "### Now that we have successfully prepared the data and split them into training and testing sets, we can proceed to find the best methods for feature selection, scaling and transforming that are going to eb used then in the final pipeline.\n",
    "### Due to us testing multiple combinations to find the best one, the next code block has a runtime of about 5 minutes"
   ],
   "metadata": {
    "collapsed": false
   },
   "id": "e8d405a12141fea0"
  },
  {
   "cell_type": "code",
   "execution_count": 19,
   "outputs": [
    {
     "name": "stdout",
     "output_type": "stream",
     "text": [
      "Pipeline with standard+power and f_classif selection: Train Score = 0.9144198850295523, Test Score = 0.9141839378238342\n",
      "Pipeline with standard+power and mutual_info selection: Train Score = 0.9144198850295523, Test Score = 0.9141839378238342\n",
      "Pipeline with standard+power and from_model_rf selection: Train Score = 0.9041373168164522, Test Score = 0.9060880829015544\n",
      "Pipeline with standard+power and rfe_lr selection: Train Score = 0.9155533964861144, Test Score = 0.9145077720207254\n"
     ]
    },
    {
     "name": "stderr",
     "output_type": "stream",
     "text": [
      "C:\\Users\\partl\\AppData\\Local\\Programs\\Python\\Python39\\lib\\site-packages\\sklearn\\feature_selection\\_univariate_selection.py:112: UserWarning: Features [0] are constant.\n",
      "  warnings.warn(\"Features %s are constant.\" % constant_features_idx, UserWarning)\n",
      "C:\\Users\\partl\\AppData\\Local\\Programs\\Python\\Python39\\lib\\site-packages\\sklearn\\feature_selection\\_univariate_selection.py:113: RuntimeWarning: invalid value encountered in divide\n",
      "  f = msb / msw\n"
     ]
    },
    {
     "name": "stdout",
     "output_type": "stream",
     "text": [
      "Pipeline with minmax+polynomial and f_classif selection: Train Score = 0.9046231074406931, Test Score = 0.9018782383419689\n",
      "Pipeline with minmax+polynomial and mutual_info selection: Train Score = 0.885677273095296, Test Score = 0.8792098445595855\n",
      "Pipeline with minmax+polynomial and from_model_rf selection: Train Score = 0.918872965751761, Test Score = 0.9177461139896373\n",
      "Pipeline with minmax+polynomial and rfe_lr selection: Train Score = 0.9176584891911587, Test Score = 0.9161269430051814\n",
      "Pipeline with robust+quantile and f_classif selection: Train Score = 0.9100477694113837, Test Score = 0.9096502590673575\n",
      "Pipeline with robust+quantile and mutual_info selection: Train Score = 0.9105335600356247, Test Score = 0.9096502590673575\n",
      "Pipeline with robust+quantile and from_model_rf selection: Train Score = 0.9021941543194884, Test Score = 0.8996113989637305\n",
      "Pipeline with robust+quantile and rfe_lr selection: Train Score = 0.9102906647235042, Test Score = 0.9096502590673575\n"
     ]
    }
   ],
   "source": [
    "# Define which columns are numerical and which are categorical\n",
    "num_features = X.select_dtypes(include=['int64', 'float64']).columns\n",
    "cat_features = X.select_dtypes(include=['object']).columns\n",
    "\n",
    "# Categorical pipeline: imputation, encoding\n",
    "cat_pipeline = Pipeline([\n",
    "    ('imputer', SimpleImputer(strategy='most_frequent')),    # Handle missing values\n",
    "    ('encoder', OneHotEncoder(handle_unknown='ignore'))      # Encoding technique\n",
    "])\n",
    "\n",
    "# Define pipelines with multiple transformations for numerical features\n",
    "num_pipeline_alternatives = {\n",
    "    'standard+power': Pipeline([\n",
    "        ('imputer', SimpleImputer(strategy='median')),\n",
    "        ('scaler', StandardScaler()),\n",
    "        ('power', PowerTransformer())\n",
    "    ]),\n",
    "    'minmax+polynomial': Pipeline([\n",
    "        ('imputer', SimpleImputer(strategy='median')),\n",
    "        ('scaler', MinMaxScaler()),\n",
    "        ('poly', PolynomialFeatures(degree=2))\n",
    "    ]),\n",
    "    'robust+quantile': Pipeline([\n",
    "        ('imputer', SimpleImputer(strategy='median')),\n",
    "        ('scaler', RobustScaler()),\n",
    "        ('quantile', QuantileTransformer())\n",
    "    ])\n",
    "}\n",
    "\n",
    "# Feature selection options\n",
    "feature_selection_alternatives = {\n",
    "    'f_classif': SelectKBest(score_func=f_classif, k=10),\n",
    "    'mutual_info': SelectKBest(score_func=mutual_info_classif, k=10),\n",
    "    'from_model_rf': SelectFromModel(RandomForestClassifier(n_estimators=100, random_state=42)),\n",
    "    'rfe_lr': RFE(estimator=LogisticRegression(max_iter=200), n_features_to_select=10)\n",
    "}\n",
    "\n",
    "# Testing different combinations of scaling, transformations, and feature selection\n",
    "for num_pipeline_name, num_pipeline in num_pipeline_alternatives.items():\n",
    "    for fs_name, feature_selection in feature_selection_alternatives.items():\n",
    "        try:\n",
    "            # Define the full pipeline\n",
    "            full_pipeline = Pipeline([\n",
    "                ('preprocessor', ColumnTransformer([\n",
    "                    ('num', num_pipeline, num_features),\n",
    "                    ('cat', cat_pipeline, cat_features)\n",
    "                ])),\n",
    "                ('feature_selection', feature_selection),\n",
    "                ('classifier', LogisticRegression(max_iter=200))\n",
    "            ])\n",
    "\n",
    "            # Fit and evaluate the pipeline\n",
    "            full_pipeline.fit(X_train, y_train)\n",
    "            train_score = full_pipeline.score(X_train, y_train)\n",
    "            test_score = full_pipeline.score(X_test, y_test)\n",
    "            print(f\"Pipeline with {num_pipeline_name} and {fs_name} selection: Train Score = {train_score}, Test Score = {test_score}\")\n",
    "\n",
    "        except Exception as e:\n",
    "            print(f\"Error with pipeline {num_pipeline_name} and {fs_name} selection: {e}\")"
   ],
   "metadata": {
    "collapsed": false,
    "ExecuteTime": {
     "end_time": "2024-11-01T11:46:10.029423200Z",
     "start_time": "2024-11-01T11:41:36.605162500Z"
    }
   },
   "id": "21770a5fc509eb85"
  },
  {
   "cell_type": "markdown",
   "source": [
    "Based on the results of this testing, we can see that the best performing combination for the pipeline is to use **Simple Imputer** with **Min Max Scaler** and **Polynomial Transformer** . Futhermore the feature selection method that seems to be the best for the setting of this pipeline is **Random Forest**\n",
    "Next we will proceed with some fine-tuning to try to get even better accuracy and base the final pipeline on that."
   ],
   "metadata": {
    "collapsed": false
   },
   "id": "d025a9d3b1f88944"
  },
  {
   "cell_type": "markdown",
   "source": [
    "### Final Pipeline"
   ],
   "metadata": {
    "collapsed": false,
    "ExecuteTime": {
     "end_time": "2024-11-01T11:10:51.712251Z",
     "start_time": "2024-11-01T11:06:13.307771Z"
    }
   },
   "id": "956c6fb5b4c567f2"
  },
  {
   "cell_type": "code",
   "execution_count": 21,
   "outputs": [
    {
     "data": {
      "text/plain": "(0.918872965751761, 0.9177461139896373, 'pipeline.pkl')"
     },
     "execution_count": 21,
     "metadata": {},
     "output_type": "execute_result"
    }
   ],
   "source": [
    "# Define which columns are numerical and which are categorical\n",
    "num_features = X.select_dtypes(include=['int64', 'float64']).columns\n",
    "cat_features = X.select_dtypes(include=['object']).columns\n",
    "\n",
    "# Numerical pipeline\n",
    "num_pipeline = Pipeline([\n",
    "    ('imputer', SimpleImputer(strategy='median')),\n",
    "    ('scaler', MinMaxScaler()),\n",
    "    ('poly', PolynomialFeatures(degree=2)),\n",
    "])\n",
    "\n",
    "# Categorical pipeline\n",
    "cat_pipeline = Pipeline([\n",
    "    ('imputer', SimpleImputer(strategy='most_frequent')), \n",
    "    ('encoder', OneHotEncoder(handle_unknown='ignore')),    \n",
    "])\n",
    "\n",
    "# Combine pipelines\n",
    "preprocessor = ColumnTransformer([\n",
    "    ('num', num_pipeline, num_features),\n",
    "    ('cat', cat_pipeline, cat_features)\n",
    "])\n",
    "\n",
    "# Create a full pipeline with the preprocessor and feature selection\n",
    "full_pipeline = Pipeline([\n",
    "    ('preprocessor', preprocessor),\n",
    "    ('feature_selection', SelectFromModel(RandomForestClassifier(n_estimators=100, random_state=42))),  # Feature selection\n",
    "    ('classifier', LogisticRegression(max_iter=200))\n",
    "])\n",
    "\n",
    "# Fit the pipeline to the training data\n",
    "full_pipeline.fit(X_train, y_train)\n",
    "\n",
    "# Evaluate the model\n",
    "train_score = full_pipeline.score(X_train, y_train)\n",
    "test_predictions = full_pipeline.predict(X_test)\n",
    "test_accuracy = accuracy_score(y_test, test_predictions)\n",
    "\n",
    "# Save the pipeline\n",
    "pipeline_filename = 'pipeline.pkl'\n",
    "joblib.dump(full_pipeline, pipeline_filename)\n",
    "\n",
    "train_score, test_accuracy, pipeline_filename"
   ],
   "metadata": {
    "collapsed": false,
    "ExecuteTime": {
     "end_time": "2024-11-01T12:13:15.013616600Z",
     "start_time": "2024-11-01T12:11:59.084355400Z"
    }
   },
   "id": "90105204314fce2a"
  },
  {
   "cell_type": "code",
   "execution_count": 22,
   "outputs": [
    {
     "name": "stdout",
     "output_type": "stream",
     "text": [
      "Cross-Validation Mean Accuracy: 0.9174963995300957\n"
     ]
    }
   ],
   "source": [
    "from sklearn.model_selection import cross_val_score\n",
    "\n",
    "# Run cross-validation on the training data\n",
    "cv_scores = cross_val_score(full_pipeline, X_train, y_train, cv=5, scoring='accuracy')\n",
    "print(\"Cross-Validation Mean Accuracy:\", cv_scores.mean())"
   ],
   "metadata": {
    "collapsed": false,
    "ExecuteTime": {
     "end_time": "2024-11-01T12:19:23.541862Z",
     "start_time": "2024-11-01T12:15:10.880140800Z"
    }
   },
   "id": "e77ba99ab36cc9fd"
  },
  {
   "cell_type": "code",
   "execution_count": 23,
   "outputs": [
    {
     "name": "stdout",
     "output_type": "stream",
     "text": [
      "Training Classification Report:\n",
      "               precision    recall  f1-score   support\n",
      "\n",
      "         0.0       0.92      0.85      0.89      4599\n",
      "         1.0       0.92      0.96      0.94      7752\n",
      "\n",
      "    accuracy                           0.92     12351\n",
      "   macro avg       0.92      0.91      0.91     12351\n",
      "weighted avg       0.92      0.92      0.92     12351\n"
     ]
    }
   ],
   "source": [
    "from sklearn.metrics import classification_report\n",
    "\n",
    "train_predictions = full_pipeline.predict(X_train)\n",
    "print(\"Training Classification Report:\\n\", classification_report(y_train, train_predictions))"
   ],
   "metadata": {
    "collapsed": false,
    "ExecuteTime": {
     "end_time": "2024-11-01T12:19:23.650591700Z",
     "start_time": "2024-11-01T12:19:23.546846Z"
    }
   },
   "id": "e4e0ae3e82a1401b"
  },
  {
   "cell_type": "code",
   "execution_count": 24,
   "outputs": [
    {
     "name": "stdout",
     "output_type": "stream",
     "text": [
      "Test Classification Report:\n",
      "               precision    recall  f1-score   support\n",
      "\n",
      "         0.0       0.93      0.84      0.88      1147\n",
      "         1.0       0.91      0.96      0.94      1941\n",
      "\n",
      "    accuracy                           0.92      3088\n",
      "   macro avg       0.92      0.90      0.91      3088\n",
      "weighted avg       0.92      0.92      0.92      3088\n"
     ]
    }
   ],
   "source": [
    "test_predictions = full_pipeline.predict(X_test)\n",
    "print(\"Test Classification Report:\\n\", classification_report(y_test, test_predictions))"
   ],
   "metadata": {
    "collapsed": false,
    "ExecuteTime": {
     "end_time": "2024-11-01T12:19:23.696402Z",
     "start_time": "2024-11-01T12:19:23.652111200Z"
    }
   },
   "id": "f76f986962a1e59"
  },
  {
   "cell_type": "code",
   "execution_count": 31,
   "outputs": [
    {
     "data": {
      "text/plain": "<Figure size 800x600 with 1 Axes>",
      "image/png": "[encoded data removed]"
     },
     "metadata": {},
     "output_type": "display_data"
    }
   ],
   "source": [
    "y_test_proba = full_pipeline.predict_proba(X_test)[:, 1]\n",
    "\n",
    "# Compute ROC curve and AUC score\n",
    "fpr, tpr, thresholds = roc_curve(y_test, y_test_proba)\n",
    "auc_score = roc_auc_score(y_test, y_test_proba)\n",
    "plt.figure(figsize=(8, 6))\n",
    "plt.plot(fpr, tpr, label=f'ROC curve (AUC = {auc_score:.2f})', color='blue')\n",
    "plt.plot([0, 1], [0, 1], color='gray', linestyle='--')  # Diagonal line for random guessing\n",
    "plt.xlabel('False Positive Rate')\n",
    "plt.ylabel('True Positive Rate')\n",
    "plt.title('Receiver Operating Characteristic (ROC) Curve')\n",
    "plt.legend(loc='lower right')\n",
    "plt.show()\n"
   ],
   "metadata": {
    "collapsed": false,
    "ExecuteTime": {
     "end_time": "2024-11-01T12:26:21.336788400Z",
     "start_time": "2024-11-01T12:26:21.032843700Z"
    }
   },
   "id": "51961e1b46fdcd04"
  },
  {
   "cell_type": "code",
   "execution_count": 28,
   "outputs": [
    {
     "name": "stdout",
     "output_type": "stream",
     "text": [
      "Top 10 most important features:\n",
      "num__c.android.gm p.android.packageinstaller: 0.03571765432602322\n",
      "num__c.android.gm: 0.03423105638043379\n",
      "num__c.android.chrome c.updateassist: 0.03211153797190989\n",
      "num__c.android.gm c.android.chrome: 0.031371614918096036\n",
      "num__c.updateassist p.android.gm: 0.029539786873566357\n",
      "num__c.android.youtube^2: 0.029338956794385078\n",
      "num__c.android.gm^2: 0.024038273557632918\n",
      "num__c.updateassist p.android.externalstorage: 0.019356334927093308\n",
      "num__c.android.gm c.updateassist: 0.01704147736061731\n",
      "num__c.android.youtube p.android.settings: 0.01674670754857222\n"
     ]
    }
   ],
   "source": [
    "feature_selector = full_pipeline.named_steps['feature_selection']\n",
    "selected_model = feature_selector.estimator_  # This is the RandomForestClassifier\n",
    "\n",
    "# Extract feature importances from the RandomForest model\n",
    "importances = selected_model.feature_importances_\n",
    "\n",
    "# Get feature names after preprocessing (i.e., after encoding and transformation)\n",
    "preprocessed_features = full_pipeline.named_steps['preprocessor'].get_feature_names_out()\n",
    "\n",
    "# Create a sorted list of features with their importances\n",
    "feature_importances = sorted(zip(preprocessed_features, importances), key=lambda x: x[1], reverse=True)[:10]\n",
    "\n",
    "print(\"Top 10 most important features:\")\n",
    "for feature, importance in feature_importances:\n",
    "    print(f\"{feature}: {importance}\")"
   ],
   "metadata": {
    "collapsed": false,
    "ExecuteTime": {
     "end_time": "2024-11-01T12:22:44.372917800Z",
     "start_time": "2024-11-01T12:22:44.358734Z"
    }
   },
   "id": "57cee72d73313d7c"
  },
  {
   "cell_type": "code",
   "execution_count": null,
   "outputs": [],
   "source": [],
   "metadata": {
    "collapsed": false
   },
   "id": "f28a73bd7ae2dd1e"
  }
 ],
 "metadata": {
  "kernelspec": {
   "display_name": "Python 3",
   "language": "python",
   "name": "python3"
  },
  "language_info": {
   "codemirror_mode": {
    "name": "ipython",
    "version": 2
   },
   "file_extension": ".py",
   "mimetype": "text/x-python",
   "name": "python",
   "nbconvert_exporter": "python",
   "pygments_lexer": "ipython2",
   "version": "2.7.6"
  }
 },
 "nbformat": 4,
 "nbformat_minor": 5
}
