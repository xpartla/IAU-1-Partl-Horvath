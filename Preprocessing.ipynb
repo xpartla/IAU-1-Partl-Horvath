{
 "cells": [
  {
   "cell_type": "markdown",
   "id": "initial_id",
   "metadata": {
    "collapsed": true
   },
   "source": [
    "#### IAU Project Phase 2 - Data Preprocessing\n",
    "#### Andrej Horváth / Adam Partl\n",
    "#### Share of work : 50% / 50%"
   ]
  },
  {
   "cell_type": "code",
   "execution_count": 1,
   "id": "85bf36466aa06da2",
   "metadata": {
    "collapsed": false,
    "ExecuteTime": {
     "end_time": "2024-11-03T18:03:19.596872900Z",
     "start_time": "2024-11-03T18:03:17.866749300Z"
    }
   },
   "outputs": [],
   "source": [
    "import pandas as pd\n",
    "from sklearn.model_selection import train_test_split\n",
    "import joblib\n",
    "from sklearn.pipeline import Pipeline\n",
    "from sklearn.compose import ColumnTransformer\n",
    "from sklearn.preprocessing import StandardScaler, MinMaxScaler, RobustScaler, PowerTransformer, PolynomialFeatures, QuantileTransformer, OneHotEncoder\n",
    "from sklearn.impute import SimpleImputer\n",
    "from sklearn.feature_selection import SelectKBest, SelectFromModel, RFE, f_classif, mutual_info_classif\n",
    "from sklearn.ensemble import RandomForestClassifier\n",
    "from sklearn.linear_model import LogisticRegression\n",
    "from sklearn.metrics import accuracy_score\n",
    "import matplotlib.pyplot as plt\n",
    "from sklearn.metrics import roc_curve, roc_auc_score\n",
    "import numpy as np"
   ]
  },
  {
   "cell_type": "code",
   "execution_count": 2,
   "id": "4fe69bc6f273755d",
   "metadata": {
    "collapsed": false,
    "ExecuteTime": {
     "end_time": "2024-11-03T18:03:20.638245400Z",
     "start_time": "2024-11-03T18:03:20.521783400Z"
    }
   },
   "outputs": [],
   "source": [
    "connections_df = pd.read_csv('data/connections.csv',delimiter='\\t', on_bad_lines='skip')\n",
    "processes_df = pd.read_csv('data/processes.csv',delimiter='\\t', on_bad_lines='skip')"
   ]
  },
  {
   "cell_type": "code",
   "execution_count": 3,
   "id": "c6776a44eec9863b",
   "metadata": {
    "collapsed": false,
    "ExecuteTime": {
     "end_time": "2024-11-03T18:03:21.544867Z",
     "start_time": "2024-11-03T18:03:21.500902Z"
    }
   },
   "outputs": [
    {
     "data": {
      "text/plain": "(                    ts                 imei  mwra  c.android.gm  c.katana  \\\n 0  2018-05-05 10:00:00   359043379931766452   1.0       9.41966  11.36816   \n 1  2018-05-05 10:01:00  3590433799317661388   0.0      13.88490  11.33562   \n 2  2018-05-05 10:02:00  3590433799317661925   1.0      12.83463  10.32837   \n 3  2018-05-05 10:03:00   863033069630348065   1.0      12.01256  11.44168   \n 4  2018-05-05 10:04:00  3590433799317661487   1.0       7.20744   8.65551   \n \n    c.android.youtube  c.dogalize  c.android.chrome  c.updateassist  \\\n 0           15.79285    17.74048           4.72740         0.00468   \n 1            9.28987    12.33463          12.07693         0.02109   \n 2           10.42188    11.08948           8.86133         0.14300   \n 3            8.05241    14.41212          14.89689         0.49394   \n 4           12.87184    12.77387           8.96060         0.00351   \n \n    c.UCMobile.x86  c.UCMobile.intl  c.raider  c.android.vending  \n 0        34.20033         51.88892  25.61221           59.09307  \n 1        39.88012         84.19242  99.71059            6.13142  \n 2        41.54384         53.13584  46.26994           31.72603  \n 3        63.92628          5.25660  81.50991           30.98744  \n 4        61.11501         70.16616   6.01425           95.08520  ,\n                     ts                 imei  mwra  p.android.settings  \\\n 0  2018-05-05 10:00:00   359043379931766452   1.0            14.84317   \n 1  2018-05-05 10:01:00  3590433799317661388   0.0             9.28918   \n 2  2018-05-05 10:02:00  3590433799317661925   1.0             8.52162   \n 3  2018-05-05 10:03:00   863033069630348065   1.0            10.18947   \n 4  2018-05-05 10:04:00  3590433799317661487   1.0            13.67891   \n \n    p.android.packageinstaller  p.android.gm  p.android.documentsui  \\\n 0                     9.26987       6.48047               10.56358   \n 1                    10.83458      10.42323               13.67176   \n 2                    12.77834      11.43979               10.51188   \n 3                    14.01963      13.18750               13.28949   \n 4                     8.97368       9.87856                8.25736   \n \n    p.android.chrome  p.system  p.android.externalstorage  ...  \\\n 0          11.29776   9.66978                    7.01202  ...   \n 1          12.66188   6.59030                    9.05042  ...   \n 2          12.00562  10.25259                    9.46283  ...   \n 3          12.87162   8.95050                    9.56550  ...   \n 4           9.96369  12.30315                    9.47917  ...   \n \n    p.browser.provider  p.process.gapps  p.dogalize  p.gms.persistent  \\\n 0            58.70704         99.14511    30.15922          46.80586   \n 1            70.55709         75.05935    17.47487          54.87990   \n 2            35.73376         90.65073    19.59184          68.71474   \n 3            60.82898         24.18521    73.16847          56.50602   \n 4            49.08519         56.95855    47.59887          28.71102   \n \n    p.android.vending  p.android.defcontainer  p.simulator  p.notifier  \\\n 0           39.47757                71.04335     18.07725     6.10710   \n 1           18.93862                80.71500     42.57503    90.27154   \n 2           48.71668                 2.84559     97.58948    69.74676   \n 3           90.77773                13.32702     87.50827    64.63028   \n 4           87.78758                75.88927     69.74888    78.87172   \n \n    p.inputmethod.latin  p.katana  \n 0             93.51355  43.54900  \n 1             98.06205  13.16659  \n 2             87.89989  87.82491  \n 3             49.89641  66.25061  \n 4             22.58957  44.97264  \n \n [5 rows x 23 columns],\n Index(['ts', 'imei', 'mwra', 'c.android.gm', 'c.katana', 'c.android.youtube',\n        'c.dogalize', 'c.android.chrome', 'c.updateassist', 'c.UCMobile.x86',\n        'c.UCMobile.intl', 'c.raider', 'c.android.vending'],\n       dtype='object'),\n Index(['ts', 'imei', 'mwra', 'p.android.settings',\n        'p.android.packageinstaller', 'p.android.gm', 'p.android.documentsui',\n        'p.android.chrome', 'p.system', 'p.android.externalstorage', 'p.google',\n        'p.olauncher', 'p.android.gms', 'p.browser.provider', 'p.process.gapps',\n        'p.dogalize', 'p.gms.persistent', 'p.android.vending',\n        'p.android.defcontainer', 'p.simulator', 'p.notifier',\n        'p.inputmethod.latin', 'p.katana'],\n       dtype='object'))"
     },
     "execution_count": 3,
     "metadata": {},
     "output_type": "execute_result"
    }
   ],
   "source": [
    "connections_df.head(), processes_df.head(), connections_df.columns, processes_df.columns\n"
   ]
  },
  {
   "cell_type": "markdown",
   "id": "e441fc93",
   "metadata": {},
   "source": [
    "**1.B** First we inner join the __connections__ and __processes__ tables based on ts and imei to get a single table with all the information for a single time and device."
   ]
  },
  {
   "cell_type": "code",
   "execution_count": 4,
   "id": "5bbf9cac1d79f23c",
   "metadata": {
    "collapsed": false,
    "ExecuteTime": {
     "end_time": "2024-11-03T18:03:23.234349200Z",
     "start_time": "2024-11-03T18:03:23.199311300Z"
    }
   },
   "outputs": [],
   "source": [
    "merged_df = pd.merge(connections_df, processes_df, on=['ts', 'imei'], how='inner')"
   ]
  },
  {
   "cell_type": "code",
   "execution_count": 5,
   "id": "8f23f3e2eadb79c0",
   "metadata": {
    "collapsed": false,
    "ExecuteTime": {
     "end_time": "2024-11-03T18:03:24.063424700Z",
     "start_time": "2024-11-03T18:03:24.018315100Z"
    }
   },
   "outputs": [
    {
     "data": {
      "text/plain": "                    ts                 imei  mwra_x  c.android.gm  c.katana  \\\n0  2018-05-05 10:00:00   359043379931766452     1.0       9.41966  11.36816   \n1  2018-05-05 10:01:00  3590433799317661388     0.0      13.88490  11.33562   \n2  2018-05-05 10:02:00  3590433799317661925     1.0      12.83463  10.32837   \n3  2018-05-05 10:03:00   863033069630348065     1.0      12.01256  11.44168   \n4  2018-05-05 10:04:00  3590433799317661487     1.0       7.20744   8.65551   \n\n   c.android.youtube  c.dogalize  c.android.chrome  c.updateassist  \\\n0           15.79285    17.74048           4.72740         0.00468   \n1            9.28987    12.33463          12.07693         0.02109   \n2           10.42188    11.08948           8.86133         0.14300   \n3            8.05241    14.41212          14.89689         0.49394   \n4           12.87184    12.77387           8.96060         0.00351   \n\n   c.UCMobile.x86  ...  p.browser.provider  p.process.gapps  p.dogalize  \\\n0        34.20033  ...            58.70704         99.14511    30.15922   \n1        39.88012  ...            70.55709         75.05935    17.47487   \n2        41.54384  ...            35.73376         90.65073    19.59184   \n3        63.92628  ...            60.82898         24.18521    73.16847   \n4        61.11501  ...            49.08519         56.95855    47.59887   \n\n   p.gms.persistent  p.android.vending  p.android.defcontainer  p.simulator  \\\n0          46.80586           39.47757                71.04335     18.07725   \n1          54.87990           18.93862                80.71500     42.57503   \n2          68.71474           48.71668                 2.84559     97.58948   \n3          56.50602           90.77773                13.32702     87.50827   \n4          28.71102           87.78758                75.88927     69.74888   \n\n   p.notifier  p.inputmethod.latin  p.katana  \n0     6.10710             93.51355  43.54900  \n1    90.27154             98.06205  13.16659  \n2    69.74676             87.89989  87.82491  \n3    64.63028             49.89641  66.25061  \n4    78.87172             22.58957  44.97264  \n\n[5 rows x 34 columns]",
      "text/html": "<div>\n<style scoped>\n    .dataframe tbody tr th:only-of-type {\n        vertical-align: middle;\n    }\n\n    .dataframe tbody tr th {\n        vertical-align: top;\n    }\n\n    .dataframe thead th {\n        text-align: right;\n    }\n</style>\n<table border=\"1\" class=\"dataframe\">\n  <thead>\n    <tr style=\"text-align: right;\">\n      <th></th>\n      <th>ts</th>\n      <th>imei</th>\n      <th>mwra_x</th>\n      <th>c.android.gm</th>\n      <th>c.katana</th>\n      <th>c.android.youtube</th>\n      <th>c.dogalize</th>\n      <th>c.android.chrome</th>\n      <th>c.updateassist</th>\n      <th>c.UCMobile.x86</th>\n      <th>...</th>\n      <th>p.browser.provider</th>\n      <th>p.process.gapps</th>\n      <th>p.dogalize</th>\n      <th>p.gms.persistent</th>\n      <th>p.android.vending</th>\n      <th>p.android.defcontainer</th>\n      <th>p.simulator</th>\n      <th>p.notifier</th>\n      <th>p.inputmethod.latin</th>\n      <th>p.katana</th>\n    </tr>\n  </thead>\n  <tbody>\n    <tr>\n      <th>0</th>\n      <td>2018-05-05 10:00:00</td>\n      <td>359043379931766452</td>\n      <td>1.0</td>\n      <td>9.41966</td>\n      <td>11.36816</td>\n      <td>15.79285</td>\n      <td>17.74048</td>\n      <td>4.72740</td>\n      <td>0.00468</td>\n      <td>34.20033</td>\n      <td>...</td>\n      <td>58.70704</td>\n      <td>99.14511</td>\n      <td>30.15922</td>\n      <td>46.80586</td>\n      <td>39.47757</td>\n      <td>71.04335</td>\n      <td>18.07725</td>\n      <td>6.10710</td>\n      <td>93.51355</td>\n      <td>43.54900</td>\n    </tr>\n    <tr>\n      <th>1</th>\n      <td>2018-05-05 10:01:00</td>\n      <td>3590433799317661388</td>\n      <td>0.0</td>\n      <td>13.88490</td>\n      <td>11.33562</td>\n      <td>9.28987</td>\n      <td>12.33463</td>\n      <td>12.07693</td>\n      <td>0.02109</td>\n      <td>39.88012</td>\n      <td>...</td>\n      <td>70.55709</td>\n      <td>75.05935</td>\n      <td>17.47487</td>\n      <td>54.87990</td>\n      <td>18.93862</td>\n      <td>80.71500</td>\n      <td>42.57503</td>\n      <td>90.27154</td>\n      <td>98.06205</td>\n      <td>13.16659</td>\n    </tr>\n    <tr>\n      <th>2</th>\n      <td>2018-05-05 10:02:00</td>\n      <td>3590433799317661925</td>\n      <td>1.0</td>\n      <td>12.83463</td>\n      <td>10.32837</td>\n      <td>10.42188</td>\n      <td>11.08948</td>\n      <td>8.86133</td>\n      <td>0.14300</td>\n      <td>41.54384</td>\n      <td>...</td>\n      <td>35.73376</td>\n      <td>90.65073</td>\n      <td>19.59184</td>\n      <td>68.71474</td>\n      <td>48.71668</td>\n      <td>2.84559</td>\n      <td>97.58948</td>\n      <td>69.74676</td>\n      <td>87.89989</td>\n      <td>87.82491</td>\n    </tr>\n    <tr>\n      <th>3</th>\n      <td>2018-05-05 10:03:00</td>\n      <td>863033069630348065</td>\n      <td>1.0</td>\n      <td>12.01256</td>\n      <td>11.44168</td>\n      <td>8.05241</td>\n      <td>14.41212</td>\n      <td>14.89689</td>\n      <td>0.49394</td>\n      <td>63.92628</td>\n      <td>...</td>\n      <td>60.82898</td>\n      <td>24.18521</td>\n      <td>73.16847</td>\n      <td>56.50602</td>\n      <td>90.77773</td>\n      <td>13.32702</td>\n      <td>87.50827</td>\n      <td>64.63028</td>\n      <td>49.89641</td>\n      <td>66.25061</td>\n    </tr>\n    <tr>\n      <th>4</th>\n      <td>2018-05-05 10:04:00</td>\n      <td>3590433799317661487</td>\n      <td>1.0</td>\n      <td>7.20744</td>\n      <td>8.65551</td>\n      <td>12.87184</td>\n      <td>12.77387</td>\n      <td>8.96060</td>\n      <td>0.00351</td>\n      <td>61.11501</td>\n      <td>...</td>\n      <td>49.08519</td>\n      <td>56.95855</td>\n      <td>47.59887</td>\n      <td>28.71102</td>\n      <td>87.78758</td>\n      <td>75.88927</td>\n      <td>69.74888</td>\n      <td>78.87172</td>\n      <td>22.58957</td>\n      <td>44.97264</td>\n    </tr>\n  </tbody>\n</table>\n<p>5 rows × 34 columns</p>\n</div>"
     },
     "execution_count": 5,
     "metadata": {},
     "output_type": "execute_result"
    }
   ],
   "source": [
    "merged_df.head()"
   ]
  },
  {
   "cell_type": "code",
   "execution_count": 6,
   "id": "68e86c165bcd4088",
   "metadata": {
    "collapsed": false,
    "ExecuteTime": {
     "end_time": "2024-11-03T18:03:24.948578Z",
     "start_time": "2024-11-03T18:03:24.881388300Z"
    }
   },
   "outputs": [
    {
     "data": {
      "text/plain": "Empty DataFrame\nColumns: [ts, imei, mwra_x, c.android.gm, c.katana, c.android.youtube, c.dogalize, c.android.chrome, c.updateassist, c.UCMobile.x86, c.UCMobile.intl, c.raider, c.android.vending, mwra_y, p.android.settings, p.android.packageinstaller, p.android.gm, p.android.documentsui, p.android.chrome, p.system, p.android.externalstorage, p.google, p.olauncher, p.android.gms, p.browser.provider, p.process.gapps, p.dogalize, p.gms.persistent, p.android.vending, p.android.defcontainer, p.simulator, p.notifier, p.inputmethod.latin, p.katana]\nIndex: []\n\n[0 rows x 34 columns]",
      "text/html": "<div>\n<style scoped>\n    .dataframe tbody tr th:only-of-type {\n        vertical-align: middle;\n    }\n\n    .dataframe tbody tr th {\n        vertical-align: top;\n    }\n\n    .dataframe thead th {\n        text-align: right;\n    }\n</style>\n<table border=\"1\" class=\"dataframe\">\n  <thead>\n    <tr style=\"text-align: right;\">\n      <th></th>\n      <th>ts</th>\n      <th>imei</th>\n      <th>mwra_x</th>\n      <th>c.android.gm</th>\n      <th>c.katana</th>\n      <th>c.android.youtube</th>\n      <th>c.dogalize</th>\n      <th>c.android.chrome</th>\n      <th>c.updateassist</th>\n      <th>c.UCMobile.x86</th>\n      <th>...</th>\n      <th>p.browser.provider</th>\n      <th>p.process.gapps</th>\n      <th>p.dogalize</th>\n      <th>p.gms.persistent</th>\n      <th>p.android.vending</th>\n      <th>p.android.defcontainer</th>\n      <th>p.simulator</th>\n      <th>p.notifier</th>\n      <th>p.inputmethod.latin</th>\n      <th>p.katana</th>\n    </tr>\n  </thead>\n  <tbody>\n  </tbody>\n</table>\n<p>0 rows × 34 columns</p>\n</div>"
     },
     "execution_count": 6,
     "metadata": {},
     "output_type": "execute_result"
    }
   ],
   "source": [
    "differences = merged_df[merged_df['mwra_x'] != merged_df['mwra_y']]\n",
    "differences"
   ]
  },
  {
   "cell_type": "markdown",
   "id": "15252f03",
   "metadata": {},
   "source": [
    "Since both tables contained the mwra column we drop one and rename the other back to mwra."
   ]
  },
  {
   "cell_type": "code",
   "execution_count": 7,
   "id": "a643f884d308ecb1",
   "metadata": {
    "collapsed": false,
    "ExecuteTime": {
     "end_time": "2024-11-03T18:03:26.635490100Z",
     "start_time": "2024-11-03T18:03:26.612687Z"
    }
   },
   "outputs": [],
   "source": [
    "merged_df = merged_df.drop(columns=['mwra_y']).rename(columns={'mwra_x': 'mwra'})"
   ]
  },
  {
   "cell_type": "markdown",
   "id": "7db2f261",
   "metadata": {},
   "source": [
    "We separate features and the target variable. We also drop the ts and imei columns since they are irelevant to the measurements."
   ]
  },
  {
   "cell_type": "code",
   "execution_count": 8,
   "id": "88b05ecb2d135642",
   "metadata": {
    "collapsed": false,
    "ExecuteTime": {
     "end_time": "2024-11-03T18:03:27.787779500Z",
     "start_time": "2024-11-03T18:03:27.767951300Z"
    }
   },
   "outputs": [],
   "source": [
    "X = merged_df.drop(columns=['mwra', 'ts', 'imei'])\n",
    "y = merged_df['mwra']"
   ]
  },
  {
   "cell_type": "markdown",
   "id": "1e35efa7",
   "metadata": {},
   "source": [
    "**1.A** We split the table into training and testing data with an 80:20 ratio."
   ]
  },
  {
   "cell_type": "code",
   "execution_count": 9,
   "id": "536b6500b94bd714",
   "metadata": {
    "collapsed": false,
    "ExecuteTime": {
     "end_time": "2024-11-03T18:03:28.986424700Z",
     "start_time": "2024-11-03T18:03:28.962354800Z"
    }
   },
   "outputs": [],
   "source": [
    "X_train, X_test, y_train, y_test = train_test_split(X, y, test_size=0.2, random_state=78)"
   ]
  },
  {
   "cell_type": "code",
   "execution_count": 10,
   "id": "772999b8a785a20",
   "metadata": {
    "collapsed": false,
    "ExecuteTime": {
     "end_time": "2024-11-03T18:03:29.878453200Z",
     "start_time": "2024-11-03T18:03:29.831090300Z"
    }
   },
   "outputs": [
    {
     "data": {
      "text/plain": "((12351, 30), (3088, 30), (12351,), (3088,))"
     },
     "execution_count": 10,
     "metadata": {},
     "output_type": "execute_result"
    }
   ],
   "source": [
    "X_train.shape, X_test.shape, y_train.shape, y_test.shape"
   ]
  },
  {
   "cell_type": "markdown",
   "id": "e5d767a8",
   "metadata": {},
   "source": [
    "**1.B** Before beginning testing we will handle outliers"
   ]
  },
  {
   "cell_type": "code",
   "execution_count": 11,
   "id": "009a8d77",
   "metadata": {
    "ExecuteTime": {
     "end_time": "2024-11-03T18:03:31.713653300Z",
     "start_time": "2024-11-03T18:03:31.568686600Z"
    }
   },
   "outputs": [],
   "source": [
    "def handle_outliers(df, lower_quantile, upper_quantile):\n",
    "    numeric_columns = df.select_dtypes(include=['int64', 'float64']).columns\n",
    "    ndf = df.copy()\n",
    "    for col in numeric_columns:\n",
    "        if col == 'mwra' or col == 'imei':\n",
    "            continue\n",
    "        Q1 = df[col].quantile(lower_quantile)\n",
    "        Q2 = df[col].quantile(upper_quantile)\n",
    "        IQR = Q2 - Q1\n",
    "        lower_bound = df[col].quantile(lower_quantile) - 1.5 * IQR\n",
    "        upper_bound = df[col].quantile(upper_quantile) + 1.5 * IQR\n",
    "        \n",
    "        mean_value = ndf[col].mean()\n",
    "        ndf[col] = np.where(ndf[col] < lower_bound, mean_value, \n",
    "                            np.where(ndf[col] > upper_bound, mean_value, ndf[col]))\n",
    "    \n",
    "    return ndf\n",
    "\n",
    "X_train = handle_outliers(X_train,0.3,0.7)"
   ]
  },
  {
   "cell_type": "markdown",
   "id": "e7da727a",
   "metadata": {},
   "source": [
    "We use the replacement method of error handling as it turned out better in the previous phase of the project. We use 0.3 and 0.7 quantiles as bounds for outliers."
   ]
  },
  {
   "cell_type": "markdown",
   "source": [
    "### Now that we have successfully prepared the data and split them into training and testing sets, we can proceed to find the best methods for feature selection, scaling and transforming that are going to be used then in the final pipeline.\n",
    "### Due to us testing multiple combinations to find the best one, the next code block has a runtime of about 5 minutes"
   ],
   "metadata": {
    "collapsed": false
   },
   "id": "e8d405a12141fea0"
  },
  {
   "cell_type": "markdown",
   "source": [
    "In this code block, we iteratively loop through different pipeline settings. We are doing a part of task **1.B - treating missing values**, then **1.C - scaling (Standard, MinMax, Robust) and transformers(Power, Polynomial and Quantile), also a Simple Imputer**\n",
    "We are also going through different **2.A - feature selection methods, where we test f_classif - which is computing the ANOVA F-value, mutual_info_classif - which computes mutual information between two variables, Random Forest and Recursive Feature Elimination with Logistic Regression**\n",
    "Tasks  2.B and 2.C are done at the end of this notebook and are done on the final pipeline."
   ],
   "metadata": {
    "collapsed": false
   },
   "id": "78ba0067403fbf34"
  },
  {
   "cell_type": "code",
   "execution_count": 12,
   "id": "21770a5fc509eb85",
   "metadata": {
    "collapsed": false,
    "ExecuteTime": {
     "end_time": "2024-11-03T18:08:11.884262400Z",
     "start_time": "2024-11-03T18:03:36.684034200Z"
    }
   },
   "outputs": [
    {
     "name": "stdout",
     "output_type": "stream",
     "text": [
      "Pipeline with standard+power and f_classif selection: Train Score = 0.8966075621407174, Test Score = 0.9183937823834197\n",
      "Pipeline with standard+power and mutual_info selection: Train Score = 0.8966075621407174, Test Score = 0.9183937823834197\n",
      "Pipeline with standard+power and from_model_rf selection: Train Score = 0.8883491215286211, Test Score = 0.9102979274611399\n",
      "Pipeline with standard+power and rfe_lr selection: Train Score = 0.8966075621407174, Test Score = 0.9183937823834197\n"
     ]
    },
    {
     "name": "stderr",
     "output_type": "stream",
     "text": [
      "C:\\Users\\partl\\AppData\\Local\\Programs\\Python\\Python39\\lib\\site-packages\\sklearn\\feature_selection\\_univariate_selection.py:112: UserWarning: Features [0] are constant.\n",
      "  warnings.warn(\"Features %s are constant.\" % constant_features_idx, UserWarning)\n",
      "C:\\Users\\partl\\AppData\\Local\\Programs\\Python\\Python39\\lib\\site-packages\\sklearn\\feature_selection\\_univariate_selection.py:113: RuntimeWarning: invalid value encountered in divide\n",
      "  f = msb / msw\n"
     ]
    },
    {
     "name": "stdout",
     "output_type": "stream",
     "text": [
      "Pipeline with minmax+polynomial and f_classif selection: Train Score = 0.8873775402801393, Test Score = 0.9080310880829016\n",
      "Pipeline with minmax+polynomial and mutual_info selection: Train Score = 0.8645453809408145, Test Score = 0.8698186528497409\n",
      "Pipeline with minmax+polynomial and from_model_rf selection: Train Score = 0.9051898631689742, Test Score = 0.8623704663212435\n",
      "Pipeline with minmax+polynomial and rfe_lr selection: Train Score = 0.8978220387013197, Test Score = 0.9200129533678757\n",
      "Pipeline with robust+quantile and f_classif selection: Train Score = 0.8966075621407174, Test Score = 0.915479274611399\n",
      "Pipeline with robust+quantile and mutual_info selection: Train Score = 0.896445631932637, Test Score = 0.9161269430051814\n",
      "Pipeline with robust+quantile and from_model_rf selection: Train Score = 0.8885920168407416, Test Score = 0.9106217616580311\n",
      "Pipeline with robust+quantile and rfe_lr selection: Train Score = 0.8965265970366771, Test Score = 0.9158031088082902\n"
     ]
    }
   ],
   "source": [
    "# Define which columns are numerical and which are categorical\n",
    "num_features = X.select_dtypes(include=['int64', 'float64']).columns\n",
    "cat_features = X.select_dtypes(include=['object']).columns\n",
    "\n",
    "# Categorical pipeline: imputation, encoding\n",
    "cat_pipeline = Pipeline([\n",
    "    ('imputer', SimpleImputer(strategy='most_frequent')),    # Handle missing values\n",
    "    ('encoder', OneHotEncoder(handle_unknown='ignore'))      # Encoding technique\n",
    "])\n",
    "\n",
    "# Define pipelines with multiple transformations for numerical features\n",
    "num_pipeline_alternatives = {\n",
    "    'standard+power': Pipeline([\n",
    "        ('imputer', SimpleImputer(strategy='median')),\n",
    "        ('scaler', StandardScaler()),\n",
    "        ('power', PowerTransformer())\n",
    "    ]),\n",
    "    'minmax+polynomial': Pipeline([\n",
    "        ('imputer', SimpleImputer(strategy='median')),\n",
    "        ('scaler', MinMaxScaler()),\n",
    "        ('poly', PolynomialFeatures(degree=2))\n",
    "    ]),\n",
    "    'robust+quantile': Pipeline([\n",
    "        ('imputer', SimpleImputer(strategy='median')),\n",
    "        ('scaler', RobustScaler()),\n",
    "        ('quantile', QuantileTransformer())\n",
    "    ])\n",
    "}\n",
    "\n",
    "# Feature selection options\n",
    "feature_selection_alternatives = {\n",
    "    'f_classif': SelectKBest(score_func=f_classif, k=10),\n",
    "    'mutual_info': SelectKBest(score_func=mutual_info_classif, k=10),\n",
    "    'from_model_rf': SelectFromModel(RandomForestClassifier(n_estimators=100, random_state=78)),\n",
    "    'rfe_lr': RFE(estimator=LogisticRegression(max_iter=200), n_features_to_select=10)\n",
    "}\n",
    "\n",
    "# Testing different combinations of scaling, transformations, and feature selection\n",
    "for num_pipeline_name, num_pipeline in num_pipeline_alternatives.items():\n",
    "    for fs_name, feature_selection in feature_selection_alternatives.items():\n",
    "        try:\n",
    "            # Define the full pipeline\n",
    "            full_pipeline = Pipeline([\n",
    "                ('preprocessor', ColumnTransformer([\n",
    "                    ('num', num_pipeline, num_features),\n",
    "                    ('cat', cat_pipeline, cat_features)\n",
    "                ])),\n",
    "                ('feature_selection', feature_selection),\n",
    "                ('classifier', LogisticRegression(max_iter=200))\n",
    "            ])\n",
    "\n",
    "            # Fit and evaluate the pipeline\n",
    "            full_pipeline.fit(X_train, y_train)\n",
    "            train_score = full_pipeline.score(X_train, y_train)\n",
    "            test_score = full_pipeline.score(X_test, y_test)\n",
    "            print(f\"Pipeline with {num_pipeline_name} and {fs_name} selection: Train Score = {train_score}, Test Score = {test_score}\")\n",
    "\n",
    "        except Exception as e:\n",
    "            print(f\"Error with pipeline {num_pipeline_name} and {fs_name} selection: {e}\")"
   ]
  },
  {
   "cell_type": "markdown",
   "id": "d025a9d3b1f88944",
   "metadata": {
    "collapsed": false
   },
   "source": [
    "**1.D** Based on the results of this testing, we can see that the best performing combination for the pipeline is to use **Simple Imputer** with **Min Max Scaler** and **Polynomial Transformer** . Futhermore the feature selection method that seems to be the best for the setting of this pipeline is **Recursive Feature Elimination (RFE) with Logistic Regression**, having the highest accuracy scores.\n",
    "Next we will proceed with some fine-tuning to try to get even better accuracy and base the final pipeline on that."
   ]
  },
  {
   "cell_type": "markdown",
   "id": "956c6fb5b4c567f2",
   "metadata": {
    "ExecuteTime": {
     "end_time": "2024-11-01T11:10:51.712251Z",
     "start_time": "2024-11-01T11:06:13.307771Z"
    },
    "collapsed": false
   },
   "source": [
    "### Final Pipeline"
   ]
  },
  {
   "cell_type": "markdown",
   "source": [
    "Here we create the final pipeline, using the settings from above, completing tasks **3.A and 3.B**"
   ],
   "metadata": {
    "collapsed": false
   },
   "id": "52620da48b712f7f"
  },
  {
   "cell_type": "code",
   "execution_count": 13,
   "id": "90105204314fce2a",
   "metadata": {
    "collapsed": false,
    "ExecuteTime": {
     "end_time": "2024-11-03T18:12:43.341215300Z",
     "start_time": "2024-11-03T18:10:07.428376600Z"
    }
   },
   "outputs": [
    {
     "data": {
      "text/plain": "(0.8978220387013197, 0.9200129533678757, 'pipeline.pkl')"
     },
     "execution_count": 13,
     "metadata": {},
     "output_type": "execute_result"
    }
   ],
   "source": [
    "# Define which columns are numerical and which are categorical\n",
    "num_features = X.select_dtypes(include=['int64', 'float64']).columns\n",
    "cat_features = X.select_dtypes(include=['object']).columns\n",
    "\n",
    "# Numerical pipeline\n",
    "num_pipeline = Pipeline([\n",
    "    ('imputer', SimpleImputer(strategy='median')),\n",
    "    ('scaler', MinMaxScaler()),\n",
    "    ('poly', PolynomialFeatures(degree=2)),\n",
    "])\n",
    "\n",
    "# Categorical pipeline\n",
    "cat_pipeline = Pipeline([\n",
    "    ('imputer', SimpleImputer(strategy='most_frequent')), \n",
    "    ('encoder', OneHotEncoder(handle_unknown='ignore')),    \n",
    "])\n",
    "\n",
    "# Combine pipelines\n",
    "preprocessor = ColumnTransformer([\n",
    "    ('num', num_pipeline, num_features),\n",
    "    ('cat', cat_pipeline, cat_features)\n",
    "])\n",
    "\n",
    "# Create a full pipeline with the preprocessor and feature selection\n",
    "full_pipeline = Pipeline([\n",
    "    ('preprocessor', preprocessor),\n",
    "    ('feature_selection', RFE(estimator=LogisticRegression(max_iter=200), n_features_to_select=10)),  # Feature selection\n",
    "    ('classifier', LogisticRegression(max_iter=200))\n",
    "])\n",
    "\n",
    "# Fit the pipeline to the training data\n",
    "full_pipeline.fit(X_train, y_train)\n",
    "\n",
    "# Evaluate the model\n",
    "train_score = full_pipeline.score(X_train, y_train)\n",
    "test_predictions = full_pipeline.predict(X_test)\n",
    "test_accuracy = accuracy_score(y_test, test_predictions)\n",
    "\n",
    "# Save the pipeline\n",
    "pipeline_filename = 'pipeline.pkl'\n",
    "joblib.dump(full_pipeline, pipeline_filename)\n",
    "\n",
    "train_score, test_accuracy, pipeline_filename"
   ]
  },
  {
   "cell_type": "markdown",
   "source": [
    "Following are some additional tests, that we do to check for overfitting and underfitting. (cross-validation, classification report, ROC and AUC scores)"
   ],
   "metadata": {
    "collapsed": false
   },
   "id": "36be70690aba0352"
  },
  {
   "cell_type": "code",
   "execution_count": 14,
   "id": "e77ba99ab36cc9fd",
   "metadata": {
    "collapsed": false,
    "ExecuteTime": {
     "end_time": "2024-11-03T18:22:10.439268900Z",
     "start_time": "2024-11-03T18:12:59.212333200Z"
    }
   },
   "outputs": [
    {
     "name": "stdout",
     "output_type": "stream",
     "text": [
      "Cross-Validation Mean Accuracy: 0.8976602106704984\n"
     ]
    }
   ],
   "source": [
    "from sklearn.model_selection import cross_val_score\n",
    "\n",
    "cv_scores = cross_val_score(full_pipeline, X_train, y_train, cv=5, scoring='accuracy')\n",
    "print(\"Cross-Validation Mean Accuracy:\", cv_scores.mean())"
   ]
  },
  {
   "cell_type": "code",
   "execution_count": 15,
   "id": "e4e0ae3e82a1401b",
   "metadata": {
    "collapsed": false,
    "ExecuteTime": {
     "end_time": "2024-11-03T18:22:10.532257800Z",
     "start_time": "2024-11-03T18:22:10.442772300Z"
    }
   },
   "outputs": [
    {
     "name": "stdout",
     "output_type": "stream",
     "text": [
      "Training Classification Report:\n",
      "               precision    recall  f1-score   support\n",
      "\n",
      "         0.0       0.90      0.82      0.86      4607\n",
      "         1.0       0.90      0.94      0.92      7744\n",
      "\n",
      "    accuracy                           0.90     12351\n",
      "   macro avg       0.90      0.88      0.89     12351\n",
      "weighted avg       0.90      0.90      0.90     12351\n"
     ]
    }
   ],
   "source": [
    "from sklearn.metrics import classification_report\n",
    "\n",
    "train_predictions = full_pipeline.predict(X_train)\n",
    "print(\"Training Classification Report:\\n\", classification_report(y_train, train_predictions))"
   ]
  },
  {
   "cell_type": "code",
   "execution_count": 16,
   "id": "f76f986962a1e59",
   "metadata": {
    "collapsed": false,
    "ExecuteTime": {
     "end_time": "2024-11-03T18:22:44.192503400Z",
     "start_time": "2024-11-03T18:22:44.146547200Z"
    }
   },
   "outputs": [
    {
     "name": "stdout",
     "output_type": "stream",
     "text": [
      "Test Classification Report:\n",
      "               precision    recall  f1-score   support\n",
      "\n",
      "         0.0       0.92      0.86      0.89      1139\n",
      "         1.0       0.92      0.95      0.94      1949\n",
      "\n",
      "    accuracy                           0.92      3088\n",
      "   macro avg       0.92      0.91      0.91      3088\n",
      "weighted avg       0.92      0.92      0.92      3088\n"
     ]
    }
   ],
   "source": [
    "test_predictions = full_pipeline.predict(X_test)\n",
    "print(\"Test Classification Report:\\n\", classification_report(y_test, test_predictions))"
   ]
  },
  {
   "cell_type": "code",
   "execution_count": 17,
   "id": "51961e1b46fdcd04",
   "metadata": {
    "collapsed": false,
    "ExecuteTime": {
     "end_time": "2024-11-03T18:22:47.826310200Z",
     "start_time": "2024-11-03T18:22:47.489565900Z"
    }
   },
   "outputs": [
    {
     "data": {
      "text/plain": "<Figure size 800x600 with 1 Axes>",
      "image/png": "[encoded data removed]"
     },
     "metadata": {},
     "output_type": "display_data"
    }
   ],
   "source": [
    "y_test_proba = full_pipeline.predict_proba(X_test)[:, 1]\n",
    "\n",
    "fpr, tpr, thresholds = roc_curve(y_test, y_test_proba)\n",
    "auc_score = roc_auc_score(y_test, y_test_proba)\n",
    "plt.figure(figsize=(8, 6))\n",
    "plt.plot(fpr, tpr, label=f'ROC curve (AUC = {auc_score:.2f})', color='blue')\n",
    "plt.plot([0, 1], [0, 1], color='gray', linestyle='--') \n",
    "plt.xlabel('False Positive Rate')\n",
    "plt.ylabel('True Positive Rate')\n",
    "plt.title('Receiver Operating Characteristic (ROC) Curve')\n",
    "plt.legend(loc='lower right')\n",
    "plt.show()\n"
   ]
  },
  {
   "cell_type": "markdown",
   "source": [
    "**2.B, 2.C** Here we can see the features selected for the final pipeline. We used Recursive Feature Elimination (RFE) with Logistic Regression, since while testing, this method was yielding the best results. We also extracted the features that were selected by the model and displayed them ordered by importance."
   ],
   "metadata": {
    "collapsed": false
   },
   "id": "c7be6f7917849bc4"
  },
  {
   "cell_type": "code",
   "execution_count": 21,
   "id": "57cee72d73313d7c",
   "metadata": {
    "collapsed": false,
    "ExecuteTime": {
     "end_time": "2024-11-03T18:32:11.034386100Z",
     "start_time": "2024-11-03T18:32:10.975294800Z"
    }
   },
   "outputs": [
    {
     "name": "stdout",
     "output_type": "stream",
     "text": [
      "Top 10 most important features:\n",
      "num__c.katana p.android.gm: 5.775382679854592\n",
      "num__p.android.packageinstaller p.android.gm: 5.0697061048058965\n",
      "num__c.katana p.android.packageinstaller: 4.016750502923513\n",
      "num__c.android.gm: 3.941312253976351\n",
      "num__c.android.youtube c.dogalize: 3.1094822076450477\n",
      "num__c.android.youtube p.system: 2.9448197516421373\n",
      "num__c.android.chrome p.android.externalstorage: 2.5163047861183583\n",
      "num__c.dogalize p.android.documentsui: 2.51174844227257\n",
      "num__c.android.chrome p.system: 2.2572744140850594\n",
      "num__p.android.documentsui p.system: 2.048698695513872\n"
     ]
    }
   ],
   "source": [
    "feature_selector = full_pipeline.named_steps['feature_selection']\n",
    "selected_model = feature_selector.estimator_ \n",
    "\n",
    "# Extract feature importances from the model\n",
    "importances = abs(selected_model.coef_).flatten()\n",
    "# Get feature names after preprocessing\n",
    "preprocessed_features = full_pipeline.named_steps['preprocessor'].get_feature_names_out()\n",
    "\n",
    "# Only keep names of the features selected by RFE\n",
    "selected_features = [preprocessed_features[i] for i in range(len(preprocessed_features)) if feature_selector.support_[i]]\n",
    "\n",
    "feature_importances = sorted(zip(selected_features, importances), key=lambda x: x[1], reverse=True)\n",
    "\n",
    "print(\"Top 10 most important features:\")\n",
    "for feature, importance in feature_importances:\n",
    "    print(f\"{feature}: {importance}\")"
   ]
  },
  {
   "cell_type": "code",
   "execution_count": null,
   "outputs": [],
   "source": [],
   "metadata": {
    "collapsed": false
   },
   "id": "7549b8057073d113"
  }
 ],
 "metadata": {
  "kernelspec": {
   "display_name": ".venv",
   "language": "python",
   "name": "python3"
  },
  "language_info": {
   "codemirror_mode": {
    "name": "ipython",
    "version": 3
   },
   "file_extension": ".py",
   "mimetype": "text/x-python",
   "name": "python",
   "nbconvert_exporter": "python",
   "pygments_lexer": "ipython3",
   "version": "3.12.6"
  }
 },
 "nbformat": 4,
 "nbformat_minor": 5
}
