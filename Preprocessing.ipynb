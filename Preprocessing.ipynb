{
 "cells": [
  {
   "cell_type": "markdown",
   "id": "initial_id",
   "metadata": {
    "collapsed": true
   },
   "source": [
    "#### IAU Project Phase 2 - Data Preprocessing\n",
    "#### Andrej Horváth / Adam Partl\n",
    "#### Share of work : 50% / 50%"
   ]
  },
  {
   "cell_type": "code",
   "execution_count": 2,
   "id": "85bf36466aa06da2",
   "metadata": {
    "ExecuteTime": {
     "end_time": "2024-11-01T12:25:44.102860500Z",
     "start_time": "2024-11-01T12:25:44.072095800Z"
    },
    "collapsed": false
   },
   "outputs": [],
   "source": [
    "import pandas as pd\n",
    "from sklearn.model_selection import train_test_split\n",
    "import joblib\n",
    "from sklearn.pipeline import Pipeline\n",
    "from sklearn.compose import ColumnTransformer\n",
    "from sklearn.preprocessing import StandardScaler, MinMaxScaler, RobustScaler, PowerTransformer, PolynomialFeatures, QuantileTransformer, OneHotEncoder\n",
    "from sklearn.impute import SimpleImputer\n",
    "from sklearn.feature_selection import SelectKBest, SelectFromModel, RFE, f_classif, mutual_info_classif\n",
    "from sklearn.ensemble import RandomForestClassifier\n",
    "from sklearn.linear_model import LogisticRegression\n",
    "from sklearn.metrics import accuracy_score\n",
    "import matplotlib.pyplot as plt\n",
    "from sklearn.metrics import roc_curve, roc_auc_score"
   ]
  },
  {
   "cell_type": "code",
   "execution_count": 3,
   "id": "4fe69bc6f273755d",
   "metadata": {
    "collapsed": false
   },
   "outputs": [],
   "source": [
    "connections_df = pd.read_csv('data/connections.csv',delimiter='\\t', on_bad_lines='skip')\n",
    "processes_df = pd.read_csv('data/processes.csv',delimiter='\\t', on_bad_lines='skip')"
   ]
  },
  {
   "cell_type": "code",
   "execution_count": 4,
   "id": "c6776a44eec9863b",
   "metadata": {
    "collapsed": false
   },
   "outputs": [
    {
     "data": {
      "text/plain": [
       "(                    ts                 imei  mwra  c.android.gm  c.katana  \\\n",
       " 0  2018-05-05 10:00:00   359043379931766452   1.0       9.41966  11.36816   \n",
       " 1  2018-05-05 10:01:00  3590433799317661388   0.0      13.88490  11.33562   \n",
       " 2  2018-05-05 10:02:00  3590433799317661925   1.0      12.83463  10.32837   \n",
       " 3  2018-05-05 10:03:00   863033069630348065   1.0      12.01256  11.44168   \n",
       " 4  2018-05-05 10:04:00  3590433799317661487   1.0       7.20744   8.65551   \n",
       " \n",
       "    c.android.youtube  c.dogalize  c.android.chrome  c.updateassist  \\\n",
       " 0           15.79285    17.74048           4.72740         0.00468   \n",
       " 1            9.28987    12.33463          12.07693         0.02109   \n",
       " 2           10.42188    11.08948           8.86133         0.14300   \n",
       " 3            8.05241    14.41212          14.89689         0.49394   \n",
       " 4           12.87184    12.77387           8.96060         0.00351   \n",
       " \n",
       "    c.UCMobile.x86  c.UCMobile.intl  c.raider  c.android.vending  \n",
       " 0        34.20033         51.88892  25.61221           59.09307  \n",
       " 1        39.88012         84.19242  99.71059            6.13142  \n",
       " 2        41.54384         53.13584  46.26994           31.72603  \n",
       " 3        63.92628          5.25660  81.50991           30.98744  \n",
       " 4        61.11501         70.16616   6.01425           95.08520  ,\n",
       "                     ts                 imei  mwra  p.android.settings  \\\n",
       " 0  2018-05-05 10:00:00   359043379931766452   1.0            14.84317   \n",
       " 1  2018-05-05 10:01:00  3590433799317661388   0.0             9.28918   \n",
       " 2  2018-05-05 10:02:00  3590433799317661925   1.0             8.52162   \n",
       " 3  2018-05-05 10:03:00   863033069630348065   1.0            10.18947   \n",
       " 4  2018-05-05 10:04:00  3590433799317661487   1.0            13.67891   \n",
       " \n",
       "    p.android.packageinstaller  p.android.gm  p.android.documentsui  \\\n",
       " 0                     9.26987       6.48047               10.56358   \n",
       " 1                    10.83458      10.42323               13.67176   \n",
       " 2                    12.77834      11.43979               10.51188   \n",
       " 3                    14.01963      13.18750               13.28949   \n",
       " 4                     8.97368       9.87856                8.25736   \n",
       " \n",
       "    p.android.chrome  p.system  p.android.externalstorage  ...  \\\n",
       " 0          11.29776   9.66978                    7.01202  ...   \n",
       " 1          12.66188   6.59030                    9.05042  ...   \n",
       " 2          12.00562  10.25259                    9.46283  ...   \n",
       " 3          12.87162   8.95050                    9.56550  ...   \n",
       " 4           9.96369  12.30315                    9.47917  ...   \n",
       " \n",
       "    p.browser.provider  p.process.gapps  p.dogalize  p.gms.persistent  \\\n",
       " 0            58.70704         99.14511    30.15922          46.80586   \n",
       " 1            70.55709         75.05935    17.47487          54.87990   \n",
       " 2            35.73376         90.65073    19.59184          68.71474   \n",
       " 3            60.82898         24.18521    73.16847          56.50602   \n",
       " 4            49.08519         56.95855    47.59887          28.71102   \n",
       " \n",
       "    p.android.vending  p.android.defcontainer  p.simulator  p.notifier  \\\n",
       " 0           39.47757                71.04335     18.07725     6.10710   \n",
       " 1           18.93862                80.71500     42.57503    90.27154   \n",
       " 2           48.71668                 2.84559     97.58948    69.74676   \n",
       " 3           90.77773                13.32702     87.50827    64.63028   \n",
       " 4           87.78758                75.88927     69.74888    78.87172   \n",
       " \n",
       "    p.inputmethod.latin  p.katana  \n",
       " 0             93.51355  43.54900  \n",
       " 1             98.06205  13.16659  \n",
       " 2             87.89989  87.82491  \n",
       " 3             49.89641  66.25061  \n",
       " 4             22.58957  44.97264  \n",
       " \n",
       " [5 rows x 23 columns],\n",
       " Index(['ts', 'imei', 'mwra', 'c.android.gm', 'c.katana', 'c.android.youtube',\n",
       "        'c.dogalize', 'c.android.chrome', 'c.updateassist', 'c.UCMobile.x86',\n",
       "        'c.UCMobile.intl', 'c.raider', 'c.android.vending'],\n",
       "       dtype='object'),\n",
       " Index(['ts', 'imei', 'mwra', 'p.android.settings',\n",
       "        'p.android.packageinstaller', 'p.android.gm', 'p.android.documentsui',\n",
       "        'p.android.chrome', 'p.system', 'p.android.externalstorage', 'p.google',\n",
       "        'p.olauncher', 'p.android.gms', 'p.browser.provider', 'p.process.gapps',\n",
       "        'p.dogalize', 'p.gms.persistent', 'p.android.vending',\n",
       "        'p.android.defcontainer', 'p.simulator', 'p.notifier',\n",
       "        'p.inputmethod.latin', 'p.katana'],\n",
       "       dtype='object'))"
      ]
     },
     "execution_count": 4,
     "metadata": {},
     "output_type": "execute_result"
    }
   ],
   "source": [
    "connections_df.head(), processes_df.head(), connections_df.columns, processes_df.columns\n"
   ]
  },
  {
   "cell_type": "code",
   "execution_count": 5,
   "id": "5bbf9cac1d79f23c",
   "metadata": {
    "collapsed": false
   },
   "outputs": [],
   "source": [
    "merged_df = pd.merge(connections_df, processes_df, on=['ts', 'imei'], how='inner')"
   ]
  },
  {
   "cell_type": "code",
   "execution_count": 6,
   "id": "8f23f3e2eadb79c0",
   "metadata": {
    "collapsed": false
   },
   "outputs": [
    {
     "data": {
      "text/html": [
       "<div>\n",
       "<style scoped>\n",
       "    .dataframe tbody tr th:only-of-type {\n",
       "        vertical-align: middle;\n",
       "    }\n",
       "\n",
       "    .dataframe tbody tr th {\n",
       "        vertical-align: top;\n",
       "    }\n",
       "\n",
       "    .dataframe thead th {\n",
       "        text-align: right;\n",
       "    }\n",
       "</style>\n",
       "<table border=\"1\" class=\"dataframe\">\n",
       "  <thead>\n",
       "    <tr style=\"text-align: right;\">\n",
       "      <th></th>\n",
       "      <th>ts</th>\n",
       "      <th>imei</th>\n",
       "      <th>mwra_x</th>\n",
       "      <th>c.android.gm</th>\n",
       "      <th>c.katana</th>\n",
       "      <th>c.android.youtube</th>\n",
       "      <th>c.dogalize</th>\n",
       "      <th>c.android.chrome</th>\n",
       "      <th>c.updateassist</th>\n",
       "      <th>c.UCMobile.x86</th>\n",
       "      <th>...</th>\n",
       "      <th>p.browser.provider</th>\n",
       "      <th>p.process.gapps</th>\n",
       "      <th>p.dogalize</th>\n",
       "      <th>p.gms.persistent</th>\n",
       "      <th>p.android.vending</th>\n",
       "      <th>p.android.defcontainer</th>\n",
       "      <th>p.simulator</th>\n",
       "      <th>p.notifier</th>\n",
       "      <th>p.inputmethod.latin</th>\n",
       "      <th>p.katana</th>\n",
       "    </tr>\n",
       "  </thead>\n",
       "  <tbody>\n",
       "    <tr>\n",
       "      <th>0</th>\n",
       "      <td>2018-05-05 10:00:00</td>\n",
       "      <td>359043379931766452</td>\n",
       "      <td>1.0</td>\n",
       "      <td>9.41966</td>\n",
       "      <td>11.36816</td>\n",
       "      <td>15.79285</td>\n",
       "      <td>17.74048</td>\n",
       "      <td>4.72740</td>\n",
       "      <td>0.00468</td>\n",
       "      <td>34.20033</td>\n",
       "      <td>...</td>\n",
       "      <td>58.70704</td>\n",
       "      <td>99.14511</td>\n",
       "      <td>30.15922</td>\n",
       "      <td>46.80586</td>\n",
       "      <td>39.47757</td>\n",
       "      <td>71.04335</td>\n",
       "      <td>18.07725</td>\n",
       "      <td>6.10710</td>\n",
       "      <td>93.51355</td>\n",
       "      <td>43.54900</td>\n",
       "    </tr>\n",
       "    <tr>\n",
       "      <th>1</th>\n",
       "      <td>2018-05-05 10:01:00</td>\n",
       "      <td>3590433799317661388</td>\n",
       "      <td>0.0</td>\n",
       "      <td>13.88490</td>\n",
       "      <td>11.33562</td>\n",
       "      <td>9.28987</td>\n",
       "      <td>12.33463</td>\n",
       "      <td>12.07693</td>\n",
       "      <td>0.02109</td>\n",
       "      <td>39.88012</td>\n",
       "      <td>...</td>\n",
       "      <td>70.55709</td>\n",
       "      <td>75.05935</td>\n",
       "      <td>17.47487</td>\n",
       "      <td>54.87990</td>\n",
       "      <td>18.93862</td>\n",
       "      <td>80.71500</td>\n",
       "      <td>42.57503</td>\n",
       "      <td>90.27154</td>\n",
       "      <td>98.06205</td>\n",
       "      <td>13.16659</td>\n",
       "    </tr>\n",
       "    <tr>\n",
       "      <th>2</th>\n",
       "      <td>2018-05-05 10:02:00</td>\n",
       "      <td>3590433799317661925</td>\n",
       "      <td>1.0</td>\n",
       "      <td>12.83463</td>\n",
       "      <td>10.32837</td>\n",
       "      <td>10.42188</td>\n",
       "      <td>11.08948</td>\n",
       "      <td>8.86133</td>\n",
       "      <td>0.14300</td>\n",
       "      <td>41.54384</td>\n",
       "      <td>...</td>\n",
       "      <td>35.73376</td>\n",
       "      <td>90.65073</td>\n",
       "      <td>19.59184</td>\n",
       "      <td>68.71474</td>\n",
       "      <td>48.71668</td>\n",
       "      <td>2.84559</td>\n",
       "      <td>97.58948</td>\n",
       "      <td>69.74676</td>\n",
       "      <td>87.89989</td>\n",
       "      <td>87.82491</td>\n",
       "    </tr>\n",
       "    <tr>\n",
       "      <th>3</th>\n",
       "      <td>2018-05-05 10:03:00</td>\n",
       "      <td>863033069630348065</td>\n",
       "      <td>1.0</td>\n",
       "      <td>12.01256</td>\n",
       "      <td>11.44168</td>\n",
       "      <td>8.05241</td>\n",
       "      <td>14.41212</td>\n",
       "      <td>14.89689</td>\n",
       "      <td>0.49394</td>\n",
       "      <td>63.92628</td>\n",
       "      <td>...</td>\n",
       "      <td>60.82898</td>\n",
       "      <td>24.18521</td>\n",
       "      <td>73.16847</td>\n",
       "      <td>56.50602</td>\n",
       "      <td>90.77773</td>\n",
       "      <td>13.32702</td>\n",
       "      <td>87.50827</td>\n",
       "      <td>64.63028</td>\n",
       "      <td>49.89641</td>\n",
       "      <td>66.25061</td>\n",
       "    </tr>\n",
       "    <tr>\n",
       "      <th>4</th>\n",
       "      <td>2018-05-05 10:04:00</td>\n",
       "      <td>3590433799317661487</td>\n",
       "      <td>1.0</td>\n",
       "      <td>7.20744</td>\n",
       "      <td>8.65551</td>\n",
       "      <td>12.87184</td>\n",
       "      <td>12.77387</td>\n",
       "      <td>8.96060</td>\n",
       "      <td>0.00351</td>\n",
       "      <td>61.11501</td>\n",
       "      <td>...</td>\n",
       "      <td>49.08519</td>\n",
       "      <td>56.95855</td>\n",
       "      <td>47.59887</td>\n",
       "      <td>28.71102</td>\n",
       "      <td>87.78758</td>\n",
       "      <td>75.88927</td>\n",
       "      <td>69.74888</td>\n",
       "      <td>78.87172</td>\n",
       "      <td>22.58957</td>\n",
       "      <td>44.97264</td>\n",
       "    </tr>\n",
       "  </tbody>\n",
       "</table>\n",
       "<p>5 rows × 34 columns</p>\n",
       "</div>"
      ],
      "text/plain": [
       "                    ts                 imei  mwra_x  c.android.gm  c.katana  \\\n",
       "0  2018-05-05 10:00:00   359043379931766452     1.0       9.41966  11.36816   \n",
       "1  2018-05-05 10:01:00  3590433799317661388     0.0      13.88490  11.33562   \n",
       "2  2018-05-05 10:02:00  3590433799317661925     1.0      12.83463  10.32837   \n",
       "3  2018-05-05 10:03:00   863033069630348065     1.0      12.01256  11.44168   \n",
       "4  2018-05-05 10:04:00  3590433799317661487     1.0       7.20744   8.65551   \n",
       "\n",
       "   c.android.youtube  c.dogalize  c.android.chrome  c.updateassist  \\\n",
       "0           15.79285    17.74048           4.72740         0.00468   \n",
       "1            9.28987    12.33463          12.07693         0.02109   \n",
       "2           10.42188    11.08948           8.86133         0.14300   \n",
       "3            8.05241    14.41212          14.89689         0.49394   \n",
       "4           12.87184    12.77387           8.96060         0.00351   \n",
       "\n",
       "   c.UCMobile.x86  ...  p.browser.provider  p.process.gapps  p.dogalize  \\\n",
       "0        34.20033  ...            58.70704         99.14511    30.15922   \n",
       "1        39.88012  ...            70.55709         75.05935    17.47487   \n",
       "2        41.54384  ...            35.73376         90.65073    19.59184   \n",
       "3        63.92628  ...            60.82898         24.18521    73.16847   \n",
       "4        61.11501  ...            49.08519         56.95855    47.59887   \n",
       "\n",
       "   p.gms.persistent  p.android.vending  p.android.defcontainer  p.simulator  \\\n",
       "0          46.80586           39.47757                71.04335     18.07725   \n",
       "1          54.87990           18.93862                80.71500     42.57503   \n",
       "2          68.71474           48.71668                 2.84559     97.58948   \n",
       "3          56.50602           90.77773                13.32702     87.50827   \n",
       "4          28.71102           87.78758                75.88927     69.74888   \n",
       "\n",
       "   p.notifier  p.inputmethod.latin  p.katana  \n",
       "0     6.10710             93.51355  43.54900  \n",
       "1    90.27154             98.06205  13.16659  \n",
       "2    69.74676             87.89989  87.82491  \n",
       "3    64.63028             49.89641  66.25061  \n",
       "4    78.87172             22.58957  44.97264  \n",
       "\n",
       "[5 rows x 34 columns]"
      ]
     },
     "execution_count": 6,
     "metadata": {},
     "output_type": "execute_result"
    }
   ],
   "source": [
    "merged_df.head()"
   ]
  },
  {
   "cell_type": "code",
   "execution_count": 7,
   "id": "68e86c165bcd4088",
   "metadata": {
    "collapsed": false
   },
   "outputs": [
    {
     "data": {
      "text/html": [
       "<div>\n",
       "<style scoped>\n",
       "    .dataframe tbody tr th:only-of-type {\n",
       "        vertical-align: middle;\n",
       "    }\n",
       "\n",
       "    .dataframe tbody tr th {\n",
       "        vertical-align: top;\n",
       "    }\n",
       "\n",
       "    .dataframe thead th {\n",
       "        text-align: right;\n",
       "    }\n",
       "</style>\n",
       "<table border=\"1\" class=\"dataframe\">\n",
       "  <thead>\n",
       "    <tr style=\"text-align: right;\">\n",
       "      <th></th>\n",
       "      <th>ts</th>\n",
       "      <th>imei</th>\n",
       "      <th>mwra_x</th>\n",
       "      <th>c.android.gm</th>\n",
       "      <th>c.katana</th>\n",
       "      <th>c.android.youtube</th>\n",
       "      <th>c.dogalize</th>\n",
       "      <th>c.android.chrome</th>\n",
       "      <th>c.updateassist</th>\n",
       "      <th>c.UCMobile.x86</th>\n",
       "      <th>...</th>\n",
       "      <th>p.browser.provider</th>\n",
       "      <th>p.process.gapps</th>\n",
       "      <th>p.dogalize</th>\n",
       "      <th>p.gms.persistent</th>\n",
       "      <th>p.android.vending</th>\n",
       "      <th>p.android.defcontainer</th>\n",
       "      <th>p.simulator</th>\n",
       "      <th>p.notifier</th>\n",
       "      <th>p.inputmethod.latin</th>\n",
       "      <th>p.katana</th>\n",
       "    </tr>\n",
       "  </thead>\n",
       "  <tbody>\n",
       "  </tbody>\n",
       "</table>\n",
       "<p>0 rows × 34 columns</p>\n",
       "</div>"
      ],
      "text/plain": [
       "Empty DataFrame\n",
       "Columns: [ts, imei, mwra_x, c.android.gm, c.katana, c.android.youtube, c.dogalize, c.android.chrome, c.updateassist, c.UCMobile.x86, c.UCMobile.intl, c.raider, c.android.vending, mwra_y, p.android.settings, p.android.packageinstaller, p.android.gm, p.android.documentsui, p.android.chrome, p.system, p.android.externalstorage, p.google, p.olauncher, p.android.gms, p.browser.provider, p.process.gapps, p.dogalize, p.gms.persistent, p.android.vending, p.android.defcontainer, p.simulator, p.notifier, p.inputmethod.latin, p.katana]\n",
       "Index: []\n",
       "\n",
       "[0 rows x 34 columns]"
      ]
     },
     "execution_count": 7,
     "metadata": {},
     "output_type": "execute_result"
    }
   ],
   "source": [
    "differences = merged_df[merged_df['mwra_x'] != merged_df['mwra_y']]\n",
    "differences"
   ]
  },
  {
   "cell_type": "code",
   "execution_count": 8,
   "id": "a643f884d308ecb1",
   "metadata": {
    "collapsed": false
   },
   "outputs": [],
   "source": [
    "merged_df = merged_df.drop(columns=['mwra_y']).rename(columns={'mwra_x': 'mwra'})"
   ]
  },
  {
   "cell_type": "code",
   "execution_count": 9,
   "id": "88b05ecb2d135642",
   "metadata": {
    "collapsed": false
   },
   "outputs": [],
   "source": [
    "X = merged_df.drop(columns=['mwra', 'ts', 'imei'])\n",
    "y = merged_df['mwra']"
   ]
  },
  {
   "cell_type": "code",
   "execution_count": 10,
   "id": "536b6500b94bd714",
   "metadata": {
    "collapsed": false
   },
   "outputs": [],
   "source": [
    "X_train, X_test, y_train, y_test = train_test_split(X, y, test_size=0.2, random_state=78)"
   ]
  },
  {
   "cell_type": "code",
   "execution_count": 11,
   "id": "772999b8a785a20",
   "metadata": {
    "collapsed": false
   },
   "outputs": [
    {
     "data": {
      "text/plain": [
       "((12351, 30), (3088, 30), (12351,), (3088,))"
      ]
     },
     "execution_count": 11,
     "metadata": {},
     "output_type": "execute_result"
    }
   ],
   "source": [
    "X_train.shape, X_test.shape, y_train.shape, y_test.shape"
   ]
  },
  {
   "cell_type": "markdown",
   "id": "e8d405a12141fea0",
   "metadata": {
    "collapsed": false
   },
   "source": [
    "### Now that we have successfully prepared the data and split them into training and testing sets, we can proceed to find the best methods for feature selection, scaling and transforming that are going to be used then in the final pipeline.\n",
    "### Due to us testing multiple combinations to find the best one, the next code block has a runtime of about 5 minutes"
   ]
  },
  {
   "cell_type": "code",
   "execution_count": null,
   "id": "21770a5fc509eb85",
   "metadata": {
    "ExecuteTime": {
     "end_time": "2024-11-01T11:46:10.029423200Z",
     "start_time": "2024-11-01T11:41:36.605162500Z"
    },
    "collapsed": false
   },
   "outputs": [
    {
     "name": "stdout",
     "output_type": "stream",
     "text": [
      "Pipeline with standard+power and f_classif selection: Train Score = 0.9130434782608695, Test Score = 0.9206606217616581\n",
      "Pipeline with standard+power and mutual_info selection: Train Score = 0.9130434782608695, Test Score = 0.9206606217616581\n",
      "Pipeline with standard+power and from_model_rf selection: Train Score = 0.9076188162901789, Test Score = 0.9128886010362695\n",
      "Pipeline with standard+power and rfe_lr selection: Train Score = 0.9140150595093515, Test Score = 0.9222797927461139\n"
     ]
    },
    {
     "name": "stderr",
     "output_type": "stream",
     "text": [
      "c:\\Users\\Andrej\\Desktop\\IAU-1-Partl-Horvath\\.venv\\Lib\\site-packages\\sklearn\\feature_selection\\_univariate_selection.py:112: UserWarning: Features [0] are constant.\n",
      "  warnings.warn(\"Features %s are constant.\" % constant_features_idx, UserWarning)\n",
      "c:\\Users\\Andrej\\Desktop\\IAU-1-Partl-Horvath\\.venv\\Lib\\site-packages\\sklearn\\feature_selection\\_univariate_selection.py:113: RuntimeWarning: invalid value encountered in divide\n",
      "  f = msb / msw\n"
     ]
    },
    {
     "name": "stdout",
     "output_type": "stream",
     "text": [
      "Pipeline with minmax+polynomial and f_classif selection: Train Score = 0.9030038053598899, Test Score = 0.9125647668393783\n",
      "Pipeline with minmax+polynomial and mutual_info selection: Train Score = 0.8801716460205652, Test Score = 0.8879533678756477\n",
      "Pipeline with minmax+polynomial and from_model_rf selection: Train Score = 0.9170107683588373, Test Score = 0.9245466321243523\n",
      "Pipeline with minmax+polynomial and rfe_lr selection: Train Score = 0.9145008501335924, Test Score = 0.9238989637305699\n",
      "Pipeline with robust+quantile and f_classif selection: Train Score = 0.9082665371225002, Test Score = 0.9183937823834197\n",
      "Pipeline with robust+quantile and mutual_info selection: Train Score = 0.9083475022265404, Test Score = 0.9180699481865285\n",
      "Pipeline with robust+quantile and from_model_rf selection: Train Score = 0.9047040725447332, Test Score = 0.9102979274611399\n",
      "Pipeline with robust+quantile and rfe_lr selection: Train Score = 0.9081855720184601, Test Score = 0.9177461139896373\n"
     ]
    }
   ],
   "source": [
    "# Define which columns are numerical and which are categorical\n",
    "num_features = X.select_dtypes(include=['int64', 'float64']).columns\n",
    "cat_features = X.select_dtypes(include=['object']).columns\n",
    "\n",
    "# Categorical pipeline: imputation, encoding\n",
    "cat_pipeline = Pipeline([\n",
    "    ('imputer', SimpleImputer(strategy='most_frequent')),    # Handle missing values\n",
    "    ('encoder', OneHotEncoder(handle_unknown='ignore'))      # Encoding technique\n",
    "])\n",
    "\n",
    "# Define pipelines with multiple transformations for numerical features\n",
    "num_pipeline_alternatives = {\n",
    "    'standard+power': Pipeline([\n",
    "        ('imputer', SimpleImputer(strategy='median')),\n",
    "        ('scaler', StandardScaler()),\n",
    "        ('power', PowerTransformer())\n",
    "    ]),\n",
    "    'minmax+polynomial': Pipeline([\n",
    "        ('imputer', SimpleImputer(strategy='median')),\n",
    "        ('scaler', MinMaxScaler()),\n",
    "        ('poly', PolynomialFeatures(degree=2))\n",
    "    ]),\n",
    "    'robust+quantile': Pipeline([\n",
    "        ('imputer', SimpleImputer(strategy='median')),\n",
    "        ('scaler', RobustScaler()),\n",
    "        ('quantile', QuantileTransformer())\n",
    "    ])\n",
    "}\n",
    "\n",
    "# Feature selection options\n",
    "feature_selection_alternatives = {\n",
    "    'f_classif': SelectKBest(score_func=f_classif, k=10),\n",
    "    'mutual_info': SelectKBest(score_func=mutual_info_classif, k=10),\n",
    "    'from_model_rf': SelectFromModel(RandomForestClassifier(n_estimators=100, random_state=78)),\n",
    "    'rfe_lr': RFE(estimator=LogisticRegression(max_iter=200), n_features_to_select=10)\n",
    "}\n",
    "\n",
    "# Testing different combinations of scaling, transformations, and feature selection\n",
    "for num_pipeline_name, num_pipeline in num_pipeline_alternatives.items():\n",
    "    for fs_name, feature_selection in feature_selection_alternatives.items():\n",
    "        try:\n",
    "            # Define the full pipeline\n",
    "            full_pipeline = Pipeline([\n",
    "                ('preprocessor', ColumnTransformer([\n",
    "                    ('num', num_pipeline, num_features),\n",
    "                    ('cat', cat_pipeline, cat_features)\n",
    "                ])),\n",
    "                ('feature_selection', feature_selection),\n",
    "                ('classifier', LogisticRegression(max_iter=200))\n",
    "            ])\n",
    "\n",
    "            # Fit and evaluate the pipeline\n",
    "            full_pipeline.fit(X_train, y_train)\n",
    "            train_score = full_pipeline.score(X_train, y_train)\n",
    "            test_score = full_pipeline.score(X_test, y_test)\n",
    "            print(f\"Pipeline with {num_pipeline_name} and {fs_name} selection: Train Score = {train_score}, Test Score = {test_score}\")\n",
    "\n",
    "        except Exception as e:\n",
    "            print(f\"Error with pipeline {num_pipeline_name} and {fs_name} selection: {e}\")"
   ]
  },
  {
   "cell_type": "markdown",
   "id": "d025a9d3b1f88944",
   "metadata": {
    "collapsed": false
   },
   "source": [
    "Based on the results of this testing, we can see that the best performing combination for the pipeline is to use **Simple Imputer** with **Min Max Scaler** and **Polynomial Transformer** . Futhermore the feature selection method that seems to be the best for the setting of this pipeline is **Random Forest**\n",
    "Next we will proceed with some fine-tuning to try to get even better accuracy and base the final pipeline on that."
   ]
  },
  {
   "cell_type": "markdown",
   "id": "956c6fb5b4c567f2",
   "metadata": {
    "ExecuteTime": {
     "end_time": "2024-11-01T11:10:51.712251Z",
     "start_time": "2024-11-01T11:06:13.307771Z"
    },
    "collapsed": false
   },
   "source": [
    "### Final Pipeline"
   ]
  },
  {
   "cell_type": "code",
   "execution_count": null,
   "id": "90105204314fce2a",
   "metadata": {
    "ExecuteTime": {
     "end_time": "2024-11-01T12:13:15.013616600Z",
     "start_time": "2024-11-01T12:11:59.084355400Z"
    },
    "collapsed": false
   },
   "outputs": [
    {
     "data": {
      "text/plain": [
       "(0.9170107683588373, 0.9245466321243523, 'pipeline.pkl')"
      ]
     },
     "execution_count": 14,
     "metadata": {},
     "output_type": "execute_result"
    }
   ],
   "source": [
    "# Define which columns are numerical and which are categorical\n",
    "num_features = X.select_dtypes(include=['int64', 'float64']).columns\n",
    "cat_features = X.select_dtypes(include=['object']).columns\n",
    "\n",
    "# Numerical pipeline\n",
    "num_pipeline = Pipeline([\n",
    "    ('imputer', SimpleImputer(strategy='median')),\n",
    "    ('scaler', MinMaxScaler()),\n",
    "    ('poly', PolynomialFeatures(degree=2)),\n",
    "])\n",
    "\n",
    "# Categorical pipeline\n",
    "cat_pipeline = Pipeline([\n",
    "    ('imputer', SimpleImputer(strategy='most_frequent')), \n",
    "    ('encoder', OneHotEncoder(handle_unknown='ignore')),    \n",
    "])\n",
    "\n",
    "# Combine pipelines\n",
    "preprocessor = ColumnTransformer([\n",
    "    ('num', num_pipeline, num_features),\n",
    "    ('cat', cat_pipeline, cat_features)\n",
    "])\n",
    "\n",
    "# Create a full pipeline with the preprocessor and feature selection\n",
    "full_pipeline = Pipeline([\n",
    "    ('preprocessor', preprocessor),\n",
    "    ('feature_selection', SelectFromModel(RandomForestClassifier(n_estimators=100, random_state=78))),  # Feature selection\n",
    "    ('classifier', LogisticRegression(max_iter=200))\n",
    "])\n",
    "\n",
    "# Fit the pipeline to the training data\n",
    "full_pipeline.fit(X_train, y_train)\n",
    "\n",
    "# Evaluate the model\n",
    "train_score = full_pipeline.score(X_train, y_train)\n",
    "test_predictions = full_pipeline.predict(X_test)\n",
    "test_accuracy = accuracy_score(y_test, test_predictions)\n",
    "\n",
    "# Save the pipeline\n",
    "pipeline_filename = 'pipeline.pkl'\n",
    "joblib.dump(full_pipeline, pipeline_filename)\n",
    "\n",
    "train_score, test_accuracy, pipeline_filename"
   ]
  },
  {
   "cell_type": "code",
   "execution_count": 15,
   "id": "e77ba99ab36cc9fd",
   "metadata": {
    "ExecuteTime": {
     "end_time": "2024-11-01T12:19:23.541862Z",
     "start_time": "2024-11-01T12:15:10.880140800Z"
    },
    "collapsed": false
   },
   "outputs": [
    {
     "name": "stdout",
     "output_type": "stream",
     "text": [
      "Cross-Validation Mean Accuracy: 0.9162011806592096\n"
     ]
    }
   ],
   "source": [
    "from sklearn.model_selection import cross_val_score\n",
    "\n",
    "# Run cross-validation on the training data\n",
    "cv_scores = cross_val_score(full_pipeline, X_train, y_train, cv=5, scoring='accuracy')\n",
    "print(\"Cross-Validation Mean Accuracy:\", cv_scores.mean())"
   ]
  },
  {
   "cell_type": "code",
   "execution_count": 16,
   "id": "e4e0ae3e82a1401b",
   "metadata": {
    "ExecuteTime": {
     "end_time": "2024-11-01T12:19:23.650591700Z",
     "start_time": "2024-11-01T12:19:23.546846Z"
    },
    "collapsed": false
   },
   "outputs": [
    {
     "name": "stdout",
     "output_type": "stream",
     "text": [
      "Training Classification Report:\n",
      "               precision    recall  f1-score   support\n",
      "\n",
      "         0.0       0.92      0.85      0.88      4607\n",
      "         1.0       0.91      0.96      0.94      7744\n",
      "\n",
      "    accuracy                           0.92     12351\n",
      "   macro avg       0.92      0.90      0.91     12351\n",
      "weighted avg       0.92      0.92      0.92     12351\n",
      "\n"
     ]
    }
   ],
   "source": [
    "from sklearn.metrics import classification_report\n",
    "\n",
    "train_predictions = full_pipeline.predict(X_train)\n",
    "print(\"Training Classification Report:\\n\", classification_report(y_train, train_predictions))"
   ]
  },
  {
   "cell_type": "code",
   "execution_count": 17,
   "id": "f76f986962a1e59",
   "metadata": {
    "ExecuteTime": {
     "end_time": "2024-11-01T12:19:23.696402Z",
     "start_time": "2024-11-01T12:19:23.652111200Z"
    },
    "collapsed": false
   },
   "outputs": [
    {
     "name": "stdout",
     "output_type": "stream",
     "text": [
      "Test Classification Report:\n",
      "               precision    recall  f1-score   support\n",
      "\n",
      "         0.0       0.93      0.86      0.89      1139\n",
      "         1.0       0.92      0.96      0.94      1949\n",
      "\n",
      "    accuracy                           0.92      3088\n",
      "   macro avg       0.93      0.91      0.92      3088\n",
      "weighted avg       0.92      0.92      0.92      3088\n",
      "\n"
     ]
    }
   ],
   "source": [
    "test_predictions = full_pipeline.predict(X_test)\n",
    "print(\"Test Classification Report:\\n\", classification_report(y_test, test_predictions))"
   ]
  },
  {
   "cell_type": "code",
   "execution_count": 18,
   "id": "51961e1b46fdcd04",
   "metadata": {
    "ExecuteTime": {
     "end_time": "2024-11-01T12:26:21.336788400Z",
     "start_time": "2024-11-01T12:26:21.032843700Z"
    },
    "collapsed": false
   },
   "outputs": [
    {
     "data": {
      "image/png": "[encoded data removed]",
      "text/plain": [
       "<Figure size 800x600 with 1 Axes>"
      ]
     },
     "metadata": {},
     "output_type": "display_data"
    }
   ],
   "source": [
    "y_test_proba = full_pipeline.predict_proba(X_test)[:, 1]\n",
    "\n",
    "# Compute ROC curve and AUC score\n",
    "fpr, tpr, thresholds = roc_curve(y_test, y_test_proba)\n",
    "auc_score = roc_auc_score(y_test, y_test_proba)\n",
    "plt.figure(figsize=(8, 6))\n",
    "plt.plot(fpr, tpr, label=f'ROC curve (AUC = {auc_score:.2f})', color='blue')\n",
    "plt.plot([0, 1], [0, 1], color='gray', linestyle='--')  # Diagonal line for random guessing\n",
    "plt.xlabel('False Positive Rate')\n",
    "plt.ylabel('True Positive Rate')\n",
    "plt.title('Receiver Operating Characteristic (ROC) Curve')\n",
    "plt.legend(loc='lower right')\n",
    "plt.show()\n"
   ]
  },
  {
   "cell_type": "code",
   "execution_count": 19,
   "id": "57cee72d73313d7c",
   "metadata": {
    "ExecuteTime": {
     "end_time": "2024-11-01T12:22:44.372917800Z",
     "start_time": "2024-11-01T12:22:44.358734Z"
    },
    "collapsed": false
   },
   "outputs": [
    {
     "name": "stdout",
     "output_type": "stream",
     "text": [
      "Top 10 most important features:\n",
      "num__c.android.gm p.android.packageinstaller: 0.040676757146770146\n",
      "num__c.android.gm: 0.030066440448937016\n",
      "num__c.android.youtube^2: 0.029309064082225555\n",
      "num__c.android.gm^2: 0.02868077773529099\n",
      "num__c.android.gm c.android.chrome: 0.02632892457470994\n",
      "num__c.android.chrome c.updateassist: 0.02566556222501764\n",
      "num__p.android.packageinstaller p.android.externalstorage: 0.022365110616830348\n",
      "num__c.updateassist p.android.gm: 0.022146973548949636\n",
      "num__c.android.gm c.updateassist: 0.01876914478494386\n",
      "num__c.updateassist p.olauncher: 0.01730690951565586\n"
     ]
    }
   ],
   "source": [
    "feature_selector = full_pipeline.named_steps['feature_selection']\n",
    "selected_model = feature_selector.estimator_  # This is the RandomForestClassifier\n",
    "\n",
    "# Extract feature importances from the RandomForest model\n",
    "importances = selected_model.feature_importances_\n",
    "\n",
    "# Get feature names after preprocessing (i.e., after encoding and transformation)\n",
    "preprocessed_features = full_pipeline.named_steps['preprocessor'].get_feature_names_out()\n",
    "\n",
    "# Create a sorted list of features with their importances\n",
    "feature_importances = sorted(zip(preprocessed_features, importances), key=lambda x: x[1], reverse=True)[:10]\n",
    "\n",
    "print(\"Top 10 most important features:\")\n",
    "for feature, importance in feature_importances:\n",
    "    print(f\"{feature}: {importance}\")"
   ]
  },
  {
   "cell_type": "code",
   "execution_count": null,
   "id": "f28a73bd7ae2dd1e",
   "metadata": {
    "collapsed": false
   },
   "outputs": [],
   "source": []
  }
 ],
 "metadata": {
  "kernelspec": {
   "display_name": ".venv",
   "language": "python",
   "name": "python3"
  },
  "language_info": {
   "codemirror_mode": {
    "name": "ipython",
    "version": 3
   },
   "file_extension": ".py",
   "mimetype": "text/x-python",
   "name": "python",
   "nbconvert_exporter": "python",
   "pygments_lexer": "ipython3",
   "version": "3.12.6"
  }
 },
 "nbformat": 4,
 "nbformat_minor": 5
}
